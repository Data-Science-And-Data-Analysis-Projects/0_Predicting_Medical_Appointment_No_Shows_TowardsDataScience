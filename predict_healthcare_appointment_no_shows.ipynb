{
 "cells": [
  {
   "cell_type": "code",
   "execution_count": 1,
   "id": "57c5994f",
   "metadata": {
    "ExecuteTime": {
     "end_time": "2021-07-03T01:24:56.579541Z",
     "start_time": "2021-07-03T01:24:56.562575Z"
    }
   },
   "outputs": [],
   "source": [
    "# url:\n",
    "    # https://towardsdatascience.com/machine-learning-with-datetime-feature-engineering-predicting-healthcare-appointment-no-shows-5e4ca3a85f96\n",
    "# article title:\n",
    "    # Machine Learning with Datetime Feature Engineering: Predicting Healthcare Appointment No-Shows\n",
    "# article by:\n",
    "    # Andrew Long\n",
    "# published by:\n",
    "    # towards data science"
   ]
  },
  {
   "cell_type": "code",
   "execution_count": 2,
   "id": "d644fca8",
   "metadata": {
    "ExecuteTime": {
     "end_time": "2021-07-03T01:25:06.123228Z",
     "start_time": "2021-07-03T01:24:56.586476Z"
    }
   },
   "outputs": [],
   "source": [
    "# importing essential libraries\n",
    "import numpy as np\n",
    "import pandas as pd\n",
    "import matplotlib.pyplot as plt"
   ]
  },
  {
   "cell_type": "code",
   "execution_count": 3,
   "id": "4dfccaff",
   "metadata": {
    "ExecuteTime": {
     "end_time": "2021-07-03T01:25:06.955641Z",
     "start_time": "2021-07-03T01:25:06.126222Z"
    }
   },
   "outputs": [
    {
     "data": {
      "text/html": [
       "<div>\n",
       "<style scoped>\n",
       "    .dataframe tbody tr th:only-of-type {\n",
       "        vertical-align: middle;\n",
       "    }\n",
       "\n",
       "    .dataframe tbody tr th {\n",
       "        vertical-align: top;\n",
       "    }\n",
       "\n",
       "    .dataframe thead th {\n",
       "        text-align: right;\n",
       "    }\n",
       "</style>\n",
       "<table border=\"1\" class=\"dataframe\">\n",
       "  <thead>\n",
       "    <tr style=\"text-align: right;\">\n",
       "      <th></th>\n",
       "      <th>PatientId</th>\n",
       "      <th>AppointmentID</th>\n",
       "      <th>Gender</th>\n",
       "      <th>ScheduledDay</th>\n",
       "      <th>AppointmentDay</th>\n",
       "      <th>Age</th>\n",
       "      <th>Neighbourhood</th>\n",
       "      <th>Scholarship</th>\n",
       "      <th>Hipertension</th>\n",
       "      <th>Diabetes</th>\n",
       "      <th>Alcoholism</th>\n",
       "      <th>Handcap</th>\n",
       "      <th>SMS_received</th>\n",
       "      <th>No-show</th>\n",
       "    </tr>\n",
       "  </thead>\n",
       "  <tbody>\n",
       "    <tr>\n",
       "      <th>0</th>\n",
       "      <td>2.987250e+13</td>\n",
       "      <td>5642903</td>\n",
       "      <td>F</td>\n",
       "      <td>2016-04-29T18:38:08Z</td>\n",
       "      <td>2016-04-29T00:00:00Z</td>\n",
       "      <td>62</td>\n",
       "      <td>JARDIM DA PENHA</td>\n",
       "      <td>0</td>\n",
       "      <td>1</td>\n",
       "      <td>0</td>\n",
       "      <td>0</td>\n",
       "      <td>0</td>\n",
       "      <td>0</td>\n",
       "      <td>No</td>\n",
       "    </tr>\n",
       "    <tr>\n",
       "      <th>1</th>\n",
       "      <td>5.589978e+14</td>\n",
       "      <td>5642503</td>\n",
       "      <td>M</td>\n",
       "      <td>2016-04-29T16:08:27Z</td>\n",
       "      <td>2016-04-29T00:00:00Z</td>\n",
       "      <td>56</td>\n",
       "      <td>JARDIM DA PENHA</td>\n",
       "      <td>0</td>\n",
       "      <td>0</td>\n",
       "      <td>0</td>\n",
       "      <td>0</td>\n",
       "      <td>0</td>\n",
       "      <td>0</td>\n",
       "      <td>No</td>\n",
       "    </tr>\n",
       "    <tr>\n",
       "      <th>2</th>\n",
       "      <td>4.262962e+12</td>\n",
       "      <td>5642549</td>\n",
       "      <td>F</td>\n",
       "      <td>2016-04-29T16:19:04Z</td>\n",
       "      <td>2016-04-29T00:00:00Z</td>\n",
       "      <td>62</td>\n",
       "      <td>MATA DA PRAIA</td>\n",
       "      <td>0</td>\n",
       "      <td>0</td>\n",
       "      <td>0</td>\n",
       "      <td>0</td>\n",
       "      <td>0</td>\n",
       "      <td>0</td>\n",
       "      <td>No</td>\n",
       "    </tr>\n",
       "    <tr>\n",
       "      <th>3</th>\n",
       "      <td>8.679512e+11</td>\n",
       "      <td>5642828</td>\n",
       "      <td>F</td>\n",
       "      <td>2016-04-29T17:29:31Z</td>\n",
       "      <td>2016-04-29T00:00:00Z</td>\n",
       "      <td>8</td>\n",
       "      <td>PONTAL DE CAMBURI</td>\n",
       "      <td>0</td>\n",
       "      <td>0</td>\n",
       "      <td>0</td>\n",
       "      <td>0</td>\n",
       "      <td>0</td>\n",
       "      <td>0</td>\n",
       "      <td>No</td>\n",
       "    </tr>\n",
       "    <tr>\n",
       "      <th>4</th>\n",
       "      <td>8.841186e+12</td>\n",
       "      <td>5642494</td>\n",
       "      <td>F</td>\n",
       "      <td>2016-04-29T16:07:23Z</td>\n",
       "      <td>2016-04-29T00:00:00Z</td>\n",
       "      <td>56</td>\n",
       "      <td>JARDIM DA PENHA</td>\n",
       "      <td>0</td>\n",
       "      <td>1</td>\n",
       "      <td>1</td>\n",
       "      <td>0</td>\n",
       "      <td>0</td>\n",
       "      <td>0</td>\n",
       "      <td>No</td>\n",
       "    </tr>\n",
       "    <tr>\n",
       "      <th>...</th>\n",
       "      <td>...</td>\n",
       "      <td>...</td>\n",
       "      <td>...</td>\n",
       "      <td>...</td>\n",
       "      <td>...</td>\n",
       "      <td>...</td>\n",
       "      <td>...</td>\n",
       "      <td>...</td>\n",
       "      <td>...</td>\n",
       "      <td>...</td>\n",
       "      <td>...</td>\n",
       "      <td>...</td>\n",
       "      <td>...</td>\n",
       "      <td>...</td>\n",
       "    </tr>\n",
       "    <tr>\n",
       "      <th>110522</th>\n",
       "      <td>2.572134e+12</td>\n",
       "      <td>5651768</td>\n",
       "      <td>F</td>\n",
       "      <td>2016-05-03T09:15:35Z</td>\n",
       "      <td>2016-06-07T00:00:00Z</td>\n",
       "      <td>56</td>\n",
       "      <td>MARIA ORTIZ</td>\n",
       "      <td>0</td>\n",
       "      <td>0</td>\n",
       "      <td>0</td>\n",
       "      <td>0</td>\n",
       "      <td>0</td>\n",
       "      <td>1</td>\n",
       "      <td>No</td>\n",
       "    </tr>\n",
       "    <tr>\n",
       "      <th>110523</th>\n",
       "      <td>3.596266e+12</td>\n",
       "      <td>5650093</td>\n",
       "      <td>F</td>\n",
       "      <td>2016-05-03T07:27:33Z</td>\n",
       "      <td>2016-06-07T00:00:00Z</td>\n",
       "      <td>51</td>\n",
       "      <td>MARIA ORTIZ</td>\n",
       "      <td>0</td>\n",
       "      <td>0</td>\n",
       "      <td>0</td>\n",
       "      <td>0</td>\n",
       "      <td>0</td>\n",
       "      <td>1</td>\n",
       "      <td>No</td>\n",
       "    </tr>\n",
       "    <tr>\n",
       "      <th>110524</th>\n",
       "      <td>1.557663e+13</td>\n",
       "      <td>5630692</td>\n",
       "      <td>F</td>\n",
       "      <td>2016-04-27T16:03:52Z</td>\n",
       "      <td>2016-06-07T00:00:00Z</td>\n",
       "      <td>21</td>\n",
       "      <td>MARIA ORTIZ</td>\n",
       "      <td>0</td>\n",
       "      <td>0</td>\n",
       "      <td>0</td>\n",
       "      <td>0</td>\n",
       "      <td>0</td>\n",
       "      <td>1</td>\n",
       "      <td>No</td>\n",
       "    </tr>\n",
       "    <tr>\n",
       "      <th>110525</th>\n",
       "      <td>9.213493e+13</td>\n",
       "      <td>5630323</td>\n",
       "      <td>F</td>\n",
       "      <td>2016-04-27T15:09:23Z</td>\n",
       "      <td>2016-06-07T00:00:00Z</td>\n",
       "      <td>38</td>\n",
       "      <td>MARIA ORTIZ</td>\n",
       "      <td>0</td>\n",
       "      <td>0</td>\n",
       "      <td>0</td>\n",
       "      <td>0</td>\n",
       "      <td>0</td>\n",
       "      <td>1</td>\n",
       "      <td>No</td>\n",
       "    </tr>\n",
       "    <tr>\n",
       "      <th>110526</th>\n",
       "      <td>3.775115e+14</td>\n",
       "      <td>5629448</td>\n",
       "      <td>F</td>\n",
       "      <td>2016-04-27T13:30:56Z</td>\n",
       "      <td>2016-06-07T00:00:00Z</td>\n",
       "      <td>54</td>\n",
       "      <td>MARIA ORTIZ</td>\n",
       "      <td>0</td>\n",
       "      <td>0</td>\n",
       "      <td>0</td>\n",
       "      <td>0</td>\n",
       "      <td>0</td>\n",
       "      <td>1</td>\n",
       "      <td>No</td>\n",
       "    </tr>\n",
       "  </tbody>\n",
       "</table>\n",
       "<p>110527 rows × 14 columns</p>\n",
       "</div>"
      ],
      "text/plain": [
       "           PatientId  AppointmentID Gender          ScheduledDay  \\\n",
       "0       2.987250e+13        5642903      F  2016-04-29T18:38:08Z   \n",
       "1       5.589978e+14        5642503      M  2016-04-29T16:08:27Z   \n",
       "2       4.262962e+12        5642549      F  2016-04-29T16:19:04Z   \n",
       "3       8.679512e+11        5642828      F  2016-04-29T17:29:31Z   \n",
       "4       8.841186e+12        5642494      F  2016-04-29T16:07:23Z   \n",
       "...              ...            ...    ...                   ...   \n",
       "110522  2.572134e+12        5651768      F  2016-05-03T09:15:35Z   \n",
       "110523  3.596266e+12        5650093      F  2016-05-03T07:27:33Z   \n",
       "110524  1.557663e+13        5630692      F  2016-04-27T16:03:52Z   \n",
       "110525  9.213493e+13        5630323      F  2016-04-27T15:09:23Z   \n",
       "110526  3.775115e+14        5629448      F  2016-04-27T13:30:56Z   \n",
       "\n",
       "              AppointmentDay  Age      Neighbourhood  Scholarship  \\\n",
       "0       2016-04-29T00:00:00Z   62    JARDIM DA PENHA            0   \n",
       "1       2016-04-29T00:00:00Z   56    JARDIM DA PENHA            0   \n",
       "2       2016-04-29T00:00:00Z   62      MATA DA PRAIA            0   \n",
       "3       2016-04-29T00:00:00Z    8  PONTAL DE CAMBURI            0   \n",
       "4       2016-04-29T00:00:00Z   56    JARDIM DA PENHA            0   \n",
       "...                      ...  ...                ...          ...   \n",
       "110522  2016-06-07T00:00:00Z   56        MARIA ORTIZ            0   \n",
       "110523  2016-06-07T00:00:00Z   51        MARIA ORTIZ            0   \n",
       "110524  2016-06-07T00:00:00Z   21        MARIA ORTIZ            0   \n",
       "110525  2016-06-07T00:00:00Z   38        MARIA ORTIZ            0   \n",
       "110526  2016-06-07T00:00:00Z   54        MARIA ORTIZ            0   \n",
       "\n",
       "        Hipertension  Diabetes  Alcoholism  Handcap  SMS_received No-show  \n",
       "0                  1         0           0        0             0      No  \n",
       "1                  0         0           0        0             0      No  \n",
       "2                  0         0           0        0             0      No  \n",
       "3                  0         0           0        0             0      No  \n",
       "4                  1         1           0        0             0      No  \n",
       "...              ...       ...         ...      ...           ...     ...  \n",
       "110522             0         0           0        0             1      No  \n",
       "110523             0         0           0        0             1      No  \n",
       "110524             0         0           0        0             1      No  \n",
       "110525             0         0           0        0             1      No  \n",
       "110526             0         0           0        0             1      No  \n",
       "\n",
       "[110527 rows x 14 columns]"
      ]
     },
     "execution_count": 3,
     "metadata": {},
     "output_type": "execute_result"
    }
   ],
   "source": [
    "df = pd.read_csv('./KaggleV2-May-2016.csv')\n",
    "df"
   ]
  },
  {
   "cell_type": "code",
   "execution_count": 4,
   "id": "8eefa84d",
   "metadata": {
    "ExecuteTime": {
     "end_time": "2021-07-03T01:25:06.985574Z",
     "start_time": "2021-07-03T01:25:06.963633Z"
    }
   },
   "outputs": [
    {
     "data": {
      "text/plain": [
       "(110527, 14)"
      ]
     },
     "execution_count": 4,
     "metadata": {},
     "output_type": "execute_result"
    }
   ],
   "source": [
    "# getting the shape of the dataframe\n",
    "df.shape"
   ]
  },
  {
   "cell_type": "code",
   "execution_count": 5,
   "id": "396b6a11",
   "metadata": {
    "ExecuteTime": {
     "end_time": "2021-07-03T01:25:07.284719Z",
     "start_time": "2021-07-03T01:25:06.992562Z"
    },
    "scrolled": true
   },
   "outputs": [
    {
     "name": "stdout",
     "output_type": "stream",
     "text": [
      "PatientId [2.98724998e+13 5.58997777e+14 4.26296230e+12 ... 7.26331493e+13\n",
      " 9.96997666e+14 1.55766317e+13]\n",
      "AppointmentID [5642903 5642503 5642549 ... 5630692 5630323 5629448]\n",
      "Gender ['F' 'M']\n",
      "ScheduledDay ['2016-04-29T18:38:08Z' '2016-04-29T16:08:27Z' '2016-04-29T16:19:04Z' ...\n",
      " '2016-04-27T16:03:52Z' '2016-04-27T15:09:23Z' '2016-04-27T13:30:56Z']\n",
      "AppointmentDay ['2016-04-29T00:00:00Z' '2016-05-03T00:00:00Z' '2016-05-10T00:00:00Z'\n",
      " '2016-05-17T00:00:00Z' '2016-05-24T00:00:00Z' '2016-05-31T00:00:00Z'\n",
      " '2016-05-02T00:00:00Z' '2016-05-30T00:00:00Z' '2016-05-16T00:00:00Z'\n",
      " '2016-05-04T00:00:00Z' '2016-05-19T00:00:00Z' '2016-05-12T00:00:00Z'\n",
      " '2016-05-06T00:00:00Z' '2016-05-20T00:00:00Z' '2016-05-05T00:00:00Z'\n",
      " '2016-05-13T00:00:00Z' '2016-05-09T00:00:00Z' '2016-05-25T00:00:00Z'\n",
      " '2016-05-11T00:00:00Z' '2016-05-18T00:00:00Z' '2016-05-14T00:00:00Z'\n",
      " '2016-06-02T00:00:00Z' '2016-06-03T00:00:00Z' '2016-06-06T00:00:00Z'\n",
      " '2016-06-07T00:00:00Z' '2016-06-01T00:00:00Z' '2016-06-08T00:00:00Z']\n",
      "Age [ 62  56   8  76  23  39  21  19  30  29  22  28  54  15  50  40  46   4\n",
      "  13  65  45  51  32  12  61  38  79  18  63  64  85  59  55  71  49  78\n",
      "  31  58  27   6   2  11   7   0   3   1  69  68  60  67  36  10  35  20\n",
      "  26  34  33  16  42   5  47  17  41  44  37  24  66  77  81  70  53  75\n",
      "  73  52  74  43  89  57  14   9  48  83  72  25  80  87  88  84  82  90\n",
      "  94  86  91  98  92  96  93  95  97 102 115 100  99  -1]\n",
      "Neighbourhood ['JARDIM DA PENHA' 'MATA DA PRAIA' 'PONTAL DE CAMBURI' 'REPÚBLICA'\n",
      " 'GOIABEIRAS' 'ANDORINHAS' 'CONQUISTA' 'NOVA PALESTINA' 'DA PENHA'\n",
      " 'TABUAZEIRO' 'BENTO FERREIRA' 'SÃO PEDRO' 'SANTA MARTHA' 'SÃO CRISTÓVÃO'\n",
      " 'MARUÍPE' 'GRANDE VITÓRIA' 'SÃO BENEDITO' 'ILHA DAS CAIEIRAS'\n",
      " 'SANTO ANDRÉ' 'SOLON BORGES' 'BONFIM' 'JARDIM CAMBURI' 'MARIA ORTIZ'\n",
      " 'JABOUR' 'ANTÔNIO HONÓRIO' 'RESISTÊNCIA' 'ILHA DE SANTA MARIA'\n",
      " 'JUCUTUQUARA' 'MONTE BELO' 'MÁRIO CYPRESTE' 'SANTO ANTÔNIO' 'BELA VISTA'\n",
      " 'PRAIA DO SUÁ' 'SANTA HELENA' 'ITARARÉ' 'INHANGUETÁ' 'UNIVERSITÁRIO'\n",
      " 'SÃO JOSÉ' 'REDENÇÃO' 'SANTA CLARA' 'CENTRO' 'PARQUE MOSCOSO'\n",
      " 'DO MOSCOSO' 'SANTOS DUMONT' 'CARATOÍRA' 'ARIOVALDO FAVALESSA'\n",
      " 'ILHA DO FRADE' 'GURIGICA' 'JOANA D´ARC' 'CONSOLAÇÃO' 'PRAIA DO CANTO'\n",
      " 'BOA VISTA' 'MORADA DE CAMBURI' 'SANTA LUÍZA' 'SANTA LÚCIA'\n",
      " 'BARRO VERMELHO' 'ESTRELINHA' 'FORTE SÃO JOÃO' 'FONTE GRANDE'\n",
      " 'ENSEADA DO SUÁ' 'SANTOS REIS' 'PIEDADE' 'JESUS DE NAZARETH'\n",
      " 'SANTA TEREZA' 'CRUZAMENTO' 'ILHA DO PRÍNCIPE' 'ROMÃO' 'COMDUSA'\n",
      " 'SANTA CECÍLIA' 'VILA RUBIM' 'DE LOURDES' 'DO QUADRO' 'DO CABRAL' 'HORTO'\n",
      " 'SEGURANÇA DO LAR' 'ILHA DO BOI' 'FRADINHOS' 'NAZARETH' 'AEROPORTO'\n",
      " 'ILHAS OCEÂNICAS DE TRINDADE' 'PARQUE INDUSTRIAL']\n",
      "Scholarship [0 1]\n",
      "Hipertension [1 0]\n",
      "Diabetes [0 1]\n",
      "Alcoholism [0 1]\n",
      "Handcap [0 1 2 3 4]\n",
      "SMS_received [0 1]\n",
      "No-show ['No' 'Yes']\n"
     ]
    }
   ],
   "source": [
    "# getting the unique values from each columns for analtzing process\n",
    "for col in df:\n",
    "    print(col,df[col].unique())"
   ]
  },
  {
   "cell_type": "code",
   "execution_count": 6,
   "id": "7eda1d65",
   "metadata": {
    "ExecuteTime": {
     "end_time": "2021-07-03T01:25:07.659886Z",
     "start_time": "2021-07-03T01:25:07.288709Z"
    },
    "scrolled": true
   },
   "outputs": [
    {
     "name": "stdout",
     "output_type": "stream",
     "text": [
      "shape (110527, 14)\n",
      "\n",
      "PatientId 8.221459e+14    88\n",
      "9.963767e+10    84\n",
      "2.688613e+13    70\n",
      "3.353478e+13    65\n",
      "7.579746e+13    62\n",
      "                ..\n",
      "1.779297e+13     1\n",
      "9.985120e+11     1\n",
      "3.256827e+13     1\n",
      "9.232297e+13     1\n",
      "5.133834e+14     1\n",
      "Name: PatientId, Length: 62299, dtype: int64\n",
      "\n",
      "AppointmentID 5771266    1\n",
      "5680512    1\n",
      "5602682    1\n",
      "5598584    1\n",
      "5584243    1\n",
      "          ..\n",
      "5686642    1\n",
      "5692785    1\n",
      "5647727    1\n",
      "5645678    1\n",
      "5769215    1\n",
      "Name: AppointmentID, Length: 110527, dtype: int64\n",
      "\n",
      "Gender F    71840\n",
      "M    38687\n",
      "Name: Gender, dtype: int64\n",
      "\n",
      "ScheduledDay 2016-05-06T07:09:54Z    24\n",
      "2016-05-06T07:09:53Z    23\n",
      "2016-04-25T17:18:27Z    22\n",
      "2016-04-25T17:17:46Z    22\n",
      "2016-04-25T17:17:23Z    19\n",
      "                        ..\n",
      "2016-05-12T15:27:10Z     1\n",
      "2016-05-19T14:01:45Z     1\n",
      "2016-05-25T08:47:17Z     1\n",
      "2016-04-06T14:41:56Z     1\n",
      "2016-05-10T09:59:45Z     1\n",
      "Name: ScheduledDay, Length: 103549, dtype: int64\n",
      "\n",
      "AppointmentDay 2016-06-06T00:00:00Z    4692\n",
      "2016-05-16T00:00:00Z    4613\n",
      "2016-05-09T00:00:00Z    4520\n",
      "2016-05-30T00:00:00Z    4514\n",
      "2016-06-08T00:00:00Z    4479\n",
      "2016-05-11T00:00:00Z    4474\n",
      "2016-06-01T00:00:00Z    4464\n",
      "2016-06-07T00:00:00Z    4416\n",
      "2016-05-12T00:00:00Z    4394\n",
      "2016-05-02T00:00:00Z    4376\n",
      "2016-05-18T00:00:00Z    4373\n",
      "2016-05-17T00:00:00Z    4372\n",
      "2016-06-02T00:00:00Z    4310\n",
      "2016-05-10T00:00:00Z    4308\n",
      "2016-05-31T00:00:00Z    4279\n",
      "2016-05-05T00:00:00Z    4273\n",
      "2016-05-19T00:00:00Z    4270\n",
      "2016-05-03T00:00:00Z    4256\n",
      "2016-05-04T00:00:00Z    4168\n",
      "2016-06-03T00:00:00Z    4090\n",
      "2016-05-24T00:00:00Z    4009\n",
      "2016-05-13T00:00:00Z    3987\n",
      "2016-05-25T00:00:00Z    3909\n",
      "2016-05-06T00:00:00Z    3879\n",
      "2016-05-20T00:00:00Z    3828\n",
      "2016-04-29T00:00:00Z    3235\n",
      "2016-05-14T00:00:00Z      39\n",
      "Name: AppointmentDay, dtype: int64\n",
      "\n",
      "Age  0      3539\n",
      " 1      2273\n",
      " 52     1746\n",
      " 49     1652\n",
      " 53     1651\n",
      "        ... \n",
      " 115       5\n",
      " 100       4\n",
      " 102       2\n",
      " 99        1\n",
      "-1         1\n",
      "Name: Age, Length: 104, dtype: int64\n",
      "\n",
      "Neighbourhood JARDIM CAMBURI                 7717\n",
      "MARIA ORTIZ                    5805\n",
      "RESISTÊNCIA                    4431\n",
      "JARDIM DA PENHA                3877\n",
      "ITARARÉ                        3514\n",
      "                               ... \n",
      "ILHA DO BOI                      35\n",
      "ILHA DO FRADE                    10\n",
      "AEROPORTO                         8\n",
      "ILHAS OCEÂNICAS DE TRINDADE       2\n",
      "PARQUE INDUSTRIAL                 1\n",
      "Name: Neighbourhood, Length: 81, dtype: int64\n",
      "\n",
      "Scholarship 0    99666\n",
      "1    10861\n",
      "Name: Scholarship, dtype: int64\n",
      "\n",
      "Hipertension 0    88726\n",
      "1    21801\n",
      "Name: Hipertension, dtype: int64\n",
      "\n",
      "Diabetes 0    102584\n",
      "1      7943\n",
      "Name: Diabetes, dtype: int64\n",
      "\n",
      "Alcoholism 0    107167\n",
      "1      3360\n",
      "Name: Alcoholism, dtype: int64\n",
      "\n",
      "Handcap 0    108286\n",
      "1      2042\n",
      "2       183\n",
      "3        13\n",
      "4         3\n",
      "Name: Handcap, dtype: int64\n",
      "\n",
      "SMS_received 0    75045\n",
      "1    35482\n",
      "Name: SMS_received, dtype: int64\n",
      "\n",
      "No-show No     88208\n",
      "Yes    22319\n",
      "Name: No-show, dtype: int64\n"
     ]
    }
   ],
   "source": [
    "# getting the unique values from each columns for analtzing process\n",
    "\n",
    "print('shape',df.shape)\n",
    "\n",
    "for col in df:\n",
    "    print('')\n",
    "    print(col,df[col].value_counts())"
   ]
  },
  {
   "cell_type": "code",
   "execution_count": 7,
   "id": "25e2fbdb",
   "metadata": {
    "ExecuteTime": {
     "end_time": "2021-07-03T01:25:07.907611Z",
     "start_time": "2021-07-03T01:25:07.662879Z"
    },
    "scrolled": false
   },
   "outputs": [
    {
     "name": "stdout",
     "output_type": "stream",
     "text": [
      "<class 'pandas.core.frame.DataFrame'>\n",
      "RangeIndex: 110527 entries, 0 to 110526\n",
      "Data columns (total 14 columns):\n",
      " #   Column          Non-Null Count   Dtype  \n",
      "---  ------          --------------   -----  \n",
      " 0   PatientId       110527 non-null  float64\n",
      " 1   AppointmentID   110527 non-null  int64  \n",
      " 2   Gender          110527 non-null  object \n",
      " 3   ScheduledDay    110527 non-null  object \n",
      " 4   AppointmentDay  110527 non-null  object \n",
      " 5   Age             110527 non-null  int64  \n",
      " 6   Neighbourhood   110527 non-null  object \n",
      " 7   Scholarship     110527 non-null  int64  \n",
      " 8   Hipertension    110527 non-null  int64  \n",
      " 9   Diabetes        110527 non-null  int64  \n",
      " 10  Alcoholism      110527 non-null  int64  \n",
      " 11  Handcap         110527 non-null  int64  \n",
      " 12  SMS_received    110527 non-null  int64  \n",
      " 13  No-show         110527 non-null  object \n",
      "dtypes: float64(1), int64(8), object(5)\n",
      "memory usage: 11.8+ MB\n"
     ]
    }
   ],
   "source": [
    "# getting the summary of the dataframe\n",
    "df.info()"
   ]
  },
  {
   "cell_type": "code",
   "execution_count": null,
   "id": "be736359",
   "metadata": {},
   "outputs": [],
   "source": []
  },
  {
   "cell_type": "code",
   "execution_count": 8,
   "id": "9e5706fb",
   "metadata": {
    "ExecuteTime": {
     "end_time": "2021-07-03T01:25:07.999319Z",
     "start_time": "2021-07-03T01:25:07.918538Z"
    }
   },
   "outputs": [
    {
     "data": {
      "text/plain": [
       "No     88208\n",
       "Yes    22319\n",
       "Name: No-show, dtype: int64"
      ]
     },
     "execution_count": 8,
     "metadata": {},
     "output_type": "execute_result"
    }
   ],
   "source": [
    "# investigating the column 'No_show'\n",
    "df['No-show'].value_counts()"
   ]
  },
  {
   "cell_type": "code",
   "execution_count": 9,
   "id": "5381cbdb",
   "metadata": {
    "ExecuteTime": {
     "end_time": "2021-07-03T01:25:08.152524Z",
     "start_time": "2021-07-03T01:25:08.011282Z"
    }
   },
   "outputs": [
    {
     "data": {
      "text/plain": [
       "array([0, 1])"
      ]
     },
     "execution_count": 9,
     "metadata": {},
     "output_type": "execute_result"
    }
   ],
   "source": [
    "# defining a binary columns output_label to indicate Yes = 1, No = 0\n",
    "df['OUTPUT_LABEL'] = (df['No-show'] == 'Yes').astype('int')\n",
    "df['OUTPUT_LABEL'].unique()"
   ]
  },
  {
   "cell_type": "code",
   "execution_count": 10,
   "id": "19f5fe62",
   "metadata": {
    "ExecuteTime": {
     "end_time": "2021-07-03T01:25:08.232131Z",
     "start_time": "2021-07-03T01:25:08.155336Z"
    }
   },
   "outputs": [],
   "source": [
    "# defining a pervalence calculator function\n",
    "def calc_prevalence(y):\n",
    "    return (sum(y)/len(y))"
   ]
  },
  {
   "cell_type": "code",
   "execution_count": 11,
   "id": "f8be2d14",
   "metadata": {
    "ExecuteTime": {
     "end_time": "2021-07-03T01:25:08.324976Z",
     "start_time": "2021-07-03T01:25:08.235287Z"
    }
   },
   "outputs": [
    {
     "data": {
      "text/plain": [
       "0.20193255946510807"
      ]
     },
     "execution_count": 11,
     "metadata": {},
     "output_type": "execute_result"
    }
   ],
   "source": [
    "# checking the prevalence of the OUTPUT_LABEL\n",
    "calc_prevalence(df.OUTPUT_LABEL.values)"
   ]
  },
  {
   "cell_type": "code",
   "execution_count": 12,
   "id": "7b46a6d0",
   "metadata": {
    "ExecuteTime": {
     "end_time": "2021-07-03T01:25:08.416970Z",
     "start_time": "2021-07-03T01:25:08.329867Z"
    }
   },
   "outputs": [],
   "source": [
    "# 0.2 i.e 1/5 means that 1 in 5 patients will miss thier shceduled appointment"
   ]
  },
  {
   "cell_type": "code",
   "execution_count": null,
   "id": "20dc871c",
   "metadata": {},
   "outputs": [],
   "source": []
  },
  {
   "cell_type": "code",
   "execution_count": 13,
   "id": "afe8b441",
   "metadata": {
    "ExecuteTime": {
     "end_time": "2021-07-03T01:25:08.528191Z",
     "start_time": "2021-07-03T01:25:08.423477Z"
    }
   },
   "outputs": [],
   "source": [
    "# woking with ScheduledDay and AppointmentDay columns"
   ]
  },
  {
   "cell_type": "code",
   "execution_count": 14,
   "id": "24b07c78",
   "metadata": {
    "ExecuteTime": {
     "end_time": "2021-07-03T01:25:08.606260Z",
     "start_time": "2021-07-03T01:25:08.532186Z"
    }
   },
   "outputs": [
    {
     "data": {
      "text/plain": [
       "0    2016-04-29T18:38:08Z\n",
       "1    2016-04-29T16:08:27Z\n",
       "2    2016-04-29T16:19:04Z\n",
       "3    2016-04-29T17:29:31Z\n",
       "4    2016-04-29T16:07:23Z\n",
       "Name: ScheduledDay, dtype: object"
      ]
     },
     "execution_count": 14,
     "metadata": {},
     "output_type": "execute_result"
    }
   ],
   "source": [
    "df.ScheduledDay.head()"
   ]
  },
  {
   "cell_type": "code",
   "execution_count": 15,
   "id": "5efe7279",
   "metadata": {
    "ExecuteTime": {
     "end_time": "2021-07-03T01:25:08.701323Z",
     "start_time": "2021-07-03T01:25:08.611243Z"
    }
   },
   "outputs": [
    {
     "data": {
      "text/plain": [
       "0    2016-04-29T00:00:00Z\n",
       "1    2016-04-29T00:00:00Z\n",
       "2    2016-04-29T00:00:00Z\n",
       "3    2016-04-29T00:00:00Z\n",
       "4    2016-04-29T00:00:00Z\n",
       "Name: AppointmentDay, dtype: object"
      ]
     },
     "execution_count": 15,
     "metadata": {},
     "output_type": "execute_result"
    }
   ],
   "source": [
    "df.AppointmentDay.head()"
   ]
  },
  {
   "cell_type": "code",
   "execution_count": 16,
   "id": "5dcc6922",
   "metadata": {
    "ExecuteTime": {
     "end_time": "2021-07-03T01:25:08.764267Z",
     "start_time": "2021-07-03T01:25:08.707975Z"
    }
   },
   "outputs": [],
   "source": [
    "# here the dtype for both columns is object meaning that pandas is viewing these values as strings\n",
    "# ScheduledDay has times (hrs : mins : secs) but AppointmentDay doesn't have it"
   ]
  },
  {
   "cell_type": "code",
   "execution_count": 17,
   "id": "cd29333e",
   "metadata": {
    "ExecuteTime": {
     "end_time": "2021-07-03T01:25:08.858988Z",
     "start_time": "2021-07-03T01:25:08.772121Z"
    }
   },
   "outputs": [],
   "source": [
    "# using to_datetime to convert strings into internal datetimes\n",
    "# any error occured here will turn into a Nat not-a-datetime\n",
    "# can also use the format parameter, but need to specify what to do with errors\n",
    "# the format parameter will speed up the execution of the respective to_datetime line"
   ]
  },
  {
   "cell_type": "code",
   "execution_count": 18,
   "id": "40d298a4",
   "metadata": {
    "ExecuteTime": {
     "end_time": "2021-07-03T01:25:09.811233Z",
     "start_time": "2021-07-03T01:25:08.866871Z"
    }
   },
   "outputs": [
    {
     "data": {
      "text/plain": [
       "0        2016-04-29 18:38:08\n",
       "1        2016-04-29 16:08:27\n",
       "2        2016-04-29 16:19:04\n",
       "3        2016-04-29 17:29:31\n",
       "4        2016-04-29 16:07:23\n",
       "                 ...        \n",
       "110522   2016-05-03 09:15:35\n",
       "110523   2016-05-03 07:27:33\n",
       "110524   2016-04-27 16:03:52\n",
       "110525   2016-04-27 15:09:23\n",
       "110526   2016-04-27 13:30:56\n",
       "Name: ScheduledDay, Length: 110527, dtype: datetime64[ns]"
      ]
     },
     "execution_count": 18,
     "metadata": {},
     "output_type": "execute_result"
    }
   ],
   "source": [
    "# convetring the ScheduledDay column's datatype from string to datetime\n",
    "df['ScheduledDay'] = pd.to_datetime(df['ScheduledDay'], format='%Y-%m-%dT%H:%M:%SZ', errors='coerce',)\n",
    "df['ScheduledDay']"
   ]
  },
  {
   "cell_type": "code",
   "execution_count": 19,
   "id": "7afd8b01",
   "metadata": {
    "ExecuteTime": {
     "end_time": "2021-07-03T01:25:09.905383Z",
     "start_time": "2021-07-03T01:25:09.814143Z"
    }
   },
   "outputs": [
    {
     "data": {
      "text/plain": [
       "0        2016-04-29\n",
       "1        2016-04-29\n",
       "2        2016-04-29\n",
       "3        2016-04-29\n",
       "4        2016-04-29\n",
       "            ...    \n",
       "110522   2016-06-07\n",
       "110523   2016-06-07\n",
       "110524   2016-06-07\n",
       "110525   2016-06-07\n",
       "110526   2016-06-07\n",
       "Name: AppointmentDay, Length: 110527, dtype: datetime64[ns]"
      ]
     },
     "execution_count": 19,
     "metadata": {},
     "output_type": "execute_result"
    }
   ],
   "source": [
    "# convetring the AppointmentDay column's datatype from string to datetime\n",
    "df['AppointmentDay'] = pd.to_datetime(df['AppointmentDay'], format='%Y-%m-%dT%H:%M:%SZ', errors='coerce',)\n",
    "df['AppointmentDay']"
   ]
  },
  {
   "cell_type": "code",
   "execution_count": 20,
   "id": "85b5e113",
   "metadata": {
    "ExecuteTime": {
     "end_time": "2021-07-03T01:25:09.968768Z",
     "start_time": "2021-07-03T01:25:09.910035Z"
    }
   },
   "outputs": [],
   "source": [
    "# checking whether the date columns' elements are valid or not\n",
    "# i.e checking for null value.. it it gets, throws an error\n",
    "assert df.ScheduledDay.isnull().sum() == 0, 'missing ScheduledDay dates'\n",
    "assert df.AppointmentDay.isnull().sum() == 0, 'missing AppointmentDay dates'"
   ]
  },
  {
   "cell_type": "code",
   "execution_count": 21,
   "id": "aadee2df",
   "metadata": {
    "ExecuteTime": {
     "end_time": "2021-07-03T01:25:10.172303Z",
     "start_time": "2021-07-03T01:25:09.975738Z"
    }
   },
   "outputs": [
    {
     "name": "stdout",
     "output_type": "stream",
     "text": [
      "<class 'pandas.core.frame.DataFrame'>\n",
      "RangeIndex: 110527 entries, 0 to 110526\n",
      "Data columns (total 15 columns):\n",
      " #   Column          Non-Null Count   Dtype         \n",
      "---  ------          --------------   -----         \n",
      " 0   PatientId       110527 non-null  float64       \n",
      " 1   AppointmentID   110527 non-null  int64         \n",
      " 2   Gender          110527 non-null  object        \n",
      " 3   ScheduledDay    110527 non-null  datetime64[ns]\n",
      " 4   AppointmentDay  110527 non-null  datetime64[ns]\n",
      " 5   Age             110527 non-null  int64         \n",
      " 6   Neighbourhood   110527 non-null  object        \n",
      " 7   Scholarship     110527 non-null  int64         \n",
      " 8   Hipertension    110527 non-null  int64         \n",
      " 9   Diabetes        110527 non-null  int64         \n",
      " 10  Alcoholism      110527 non-null  int64         \n",
      " 11  Handcap         110527 non-null  int64         \n",
      " 12  SMS_received    110527 non-null  int64         \n",
      " 13  No-show         110527 non-null  object        \n",
      " 14  OUTPUT_LABEL    110527 non-null  int32         \n",
      "dtypes: datetime64[ns](2), float64(1), int32(1), int64(8), object(3)\n",
      "memory usage: 12.2+ MB\n"
     ]
    }
   ],
   "source": [
    "# checking the dtyoe of the columns\n",
    "df.info()"
   ]
  },
  {
   "cell_type": "code",
   "execution_count": 22,
   "id": "5a136729",
   "metadata": {
    "ExecuteTime": {
     "end_time": "2021-07-03T01:25:10.359350Z",
     "start_time": "2021-07-03T01:25:10.175360Z"
    }
   },
   "outputs": [
    {
     "data": {
      "text/plain": [
       "38568"
      ]
     },
     "execution_count": 22,
     "metadata": {},
     "output_type": "execute_result"
    }
   ],
   "source": [
    "# there are ~40k appointments that were scheduled after the appointment datetime\n",
    "(df.ScheduledDay > df.AppointmentDay).sum()"
   ]
  },
  {
   "cell_type": "code",
   "execution_count": 23,
   "id": "bccd0106",
   "metadata": {
    "ExecuteTime": {
     "end_time": "2021-07-03T01:25:10.606332Z",
     "start_time": "2021-07-03T01:25:10.379335Z"
    }
   },
   "outputs": [],
   "source": [
    "# shifting all the appointment dates at the end of the day\n",
    "# previously these dates were in the start of the day\n",
    "# this will reduce almost all of the appointment before schedule problems\n",
    "df.AppointmentDay = df.AppointmentDay + pd.Timedelta('1d') - pd.Timedelta('1s')"
   ]
  },
  {
   "cell_type": "code",
   "execution_count": 24,
   "id": "8db30c11",
   "metadata": {
    "ExecuteTime": {
     "end_time": "2021-07-03T01:25:10.651751Z",
     "start_time": "2021-07-03T01:25:10.624865Z"
    }
   },
   "outputs": [
    {
     "data": {
      "text/plain": [
       "0        2016-04-29 23:59:59\n",
       "1        2016-04-29 23:59:59\n",
       "2        2016-04-29 23:59:59\n",
       "3        2016-04-29 23:59:59\n",
       "4        2016-04-29 23:59:59\n",
       "                 ...        \n",
       "110522   2016-06-07 23:59:59\n",
       "110523   2016-06-07 23:59:59\n",
       "110524   2016-06-07 23:59:59\n",
       "110525   2016-06-07 23:59:59\n",
       "110526   2016-06-07 23:59:59\n",
       "Name: AppointmentDay, Length: 110527, dtype: datetime64[ns]"
      ]
     },
     "execution_count": 24,
     "metadata": {},
     "output_type": "execute_result"
    }
   ],
   "source": [
    "#viewing the appointment dates\n",
    "df.AppointmentDay"
   ]
  },
  {
   "cell_type": "code",
   "execution_count": 25,
   "id": "8010ab96",
   "metadata": {
    "ExecuteTime": {
     "end_time": "2021-07-03T01:25:10.836667Z",
     "start_time": "2021-07-03T01:25:10.660721Z"
    }
   },
   "outputs": [
    {
     "data": {
      "text/plain": [
       "5"
      ]
     },
     "execution_count": 25,
     "metadata": {},
     "output_type": "execute_result"
    }
   ],
   "source": [
    "# checking for the appointment before schedule dates\n",
    "(df.ScheduledDay > df.AppointmentDay).sum()"
   ]
  },
  {
   "cell_type": "code",
   "execution_count": 26,
   "id": "2dfec6c6",
   "metadata": {
    "ExecuteTime": {
     "end_time": "2021-07-03T01:25:10.963144Z",
     "start_time": "2021-07-03T01:25:10.846492Z"
    }
   },
   "outputs": [],
   "source": [
    "# only 5 days are present where appointments come before shceduling before 1 day\n",
    "# we can drop these 5 rows\n",
    "df= df.loc[ (df.ScheduledDay <= df.AppointmentDay)].copy()"
   ]
  },
  {
   "cell_type": "code",
   "execution_count": null,
   "id": "ce5922c9",
   "metadata": {
    "ExecuteTime": {
     "end_time": "2021-07-02T15:23:09.184401Z",
     "start_time": "2021-07-02T15:23:09.170440Z"
    },
    "scrolled": true
   },
   "outputs": [],
   "source": []
  },
  {
   "cell_type": "code",
   "execution_count": 27,
   "id": "d86075e0",
   "metadata": {
    "ExecuteTime": {
     "end_time": "2021-07-03T01:25:11.150910Z",
     "start_time": "2021-07-03T01:25:10.967009Z"
    }
   },
   "outputs": [],
   "source": [
    "# breaking the date into simpler elements like year, month, day, ...\n",
    "# when working with the week\n",
    "# we need to be careful because the first few days of the day may be 53 if that week begins in the prior year\n",
    "\n",
    "# for ScheduledDay column\n",
    "df['ScheduledDay_year'] = df['ScheduledDay'].dt.year\n",
    "df['ScheduledDay_month'] = df['ScheduledDay'].dt.month\n",
    "df['ScheduledDay_week'] = df['ScheduledDay'].dt.isocalendar().week\n",
    "df['ScheduledDay_day'] = df['ScheduledDay'].dt.day\n",
    "df['ScheduledDay_hour'] = df['ScheduledDay'].dt.hour\n",
    "df['ScheduledDay_minute'] = df['ScheduledDay'].dt.minute\n",
    "df['ScheduledDay_dayofweek'] = df['ScheduledDay'].dt.dayofweek"
   ]
  },
  {
   "cell_type": "code",
   "execution_count": 28,
   "id": "f51c8bee",
   "metadata": {
    "ExecuteTime": {
     "end_time": "2021-07-03T01:25:11.230539Z",
     "start_time": "2021-07-03T01:25:11.153627Z"
    }
   },
   "outputs": [
    {
     "data": {
      "text/html": [
       "<div>\n",
       "<style scoped>\n",
       "    .dataframe tbody tr th:only-of-type {\n",
       "        vertical-align: middle;\n",
       "    }\n",
       "\n",
       "    .dataframe tbody tr th {\n",
       "        vertical-align: top;\n",
       "    }\n",
       "\n",
       "    .dataframe thead th {\n",
       "        text-align: right;\n",
       "    }\n",
       "</style>\n",
       "<table border=\"1\" class=\"dataframe\">\n",
       "  <thead>\n",
       "    <tr style=\"text-align: right;\">\n",
       "      <th></th>\n",
       "      <th>ScheduledDay</th>\n",
       "      <th>ScheduledDay_year</th>\n",
       "      <th>ScheduledDay_month</th>\n",
       "      <th>ScheduledDay_week</th>\n",
       "      <th>ScheduledDay_day</th>\n",
       "      <th>ScheduledDay_hour</th>\n",
       "      <th>ScheduledDay_minute</th>\n",
       "      <th>ScheduledDay_dayofweek</th>\n",
       "    </tr>\n",
       "  </thead>\n",
       "  <tbody>\n",
       "    <tr>\n",
       "      <th>0</th>\n",
       "      <td>2016-04-29 18:38:08</td>\n",
       "      <td>2016</td>\n",
       "      <td>4</td>\n",
       "      <td>17</td>\n",
       "      <td>29</td>\n",
       "      <td>18</td>\n",
       "      <td>38</td>\n",
       "      <td>4</td>\n",
       "    </tr>\n",
       "    <tr>\n",
       "      <th>1</th>\n",
       "      <td>2016-04-29 16:08:27</td>\n",
       "      <td>2016</td>\n",
       "      <td>4</td>\n",
       "      <td>17</td>\n",
       "      <td>29</td>\n",
       "      <td>16</td>\n",
       "      <td>8</td>\n",
       "      <td>4</td>\n",
       "    </tr>\n",
       "    <tr>\n",
       "      <th>2</th>\n",
       "      <td>2016-04-29 16:19:04</td>\n",
       "      <td>2016</td>\n",
       "      <td>4</td>\n",
       "      <td>17</td>\n",
       "      <td>29</td>\n",
       "      <td>16</td>\n",
       "      <td>19</td>\n",
       "      <td>4</td>\n",
       "    </tr>\n",
       "    <tr>\n",
       "      <th>3</th>\n",
       "      <td>2016-04-29 17:29:31</td>\n",
       "      <td>2016</td>\n",
       "      <td>4</td>\n",
       "      <td>17</td>\n",
       "      <td>29</td>\n",
       "      <td>17</td>\n",
       "      <td>29</td>\n",
       "      <td>4</td>\n",
       "    </tr>\n",
       "    <tr>\n",
       "      <th>4</th>\n",
       "      <td>2016-04-29 16:07:23</td>\n",
       "      <td>2016</td>\n",
       "      <td>4</td>\n",
       "      <td>17</td>\n",
       "      <td>29</td>\n",
       "      <td>16</td>\n",
       "      <td>7</td>\n",
       "      <td>4</td>\n",
       "    </tr>\n",
       "    <tr>\n",
       "      <th>...</th>\n",
       "      <td>...</td>\n",
       "      <td>...</td>\n",
       "      <td>...</td>\n",
       "      <td>...</td>\n",
       "      <td>...</td>\n",
       "      <td>...</td>\n",
       "      <td>...</td>\n",
       "      <td>...</td>\n",
       "    </tr>\n",
       "    <tr>\n",
       "      <th>110522</th>\n",
       "      <td>2016-05-03 09:15:35</td>\n",
       "      <td>2016</td>\n",
       "      <td>5</td>\n",
       "      <td>18</td>\n",
       "      <td>3</td>\n",
       "      <td>9</td>\n",
       "      <td>15</td>\n",
       "      <td>1</td>\n",
       "    </tr>\n",
       "    <tr>\n",
       "      <th>110523</th>\n",
       "      <td>2016-05-03 07:27:33</td>\n",
       "      <td>2016</td>\n",
       "      <td>5</td>\n",
       "      <td>18</td>\n",
       "      <td>3</td>\n",
       "      <td>7</td>\n",
       "      <td>27</td>\n",
       "      <td>1</td>\n",
       "    </tr>\n",
       "    <tr>\n",
       "      <th>110524</th>\n",
       "      <td>2016-04-27 16:03:52</td>\n",
       "      <td>2016</td>\n",
       "      <td>4</td>\n",
       "      <td>17</td>\n",
       "      <td>27</td>\n",
       "      <td>16</td>\n",
       "      <td>3</td>\n",
       "      <td>2</td>\n",
       "    </tr>\n",
       "    <tr>\n",
       "      <th>110525</th>\n",
       "      <td>2016-04-27 15:09:23</td>\n",
       "      <td>2016</td>\n",
       "      <td>4</td>\n",
       "      <td>17</td>\n",
       "      <td>27</td>\n",
       "      <td>15</td>\n",
       "      <td>9</td>\n",
       "      <td>2</td>\n",
       "    </tr>\n",
       "    <tr>\n",
       "      <th>110526</th>\n",
       "      <td>2016-04-27 13:30:56</td>\n",
       "      <td>2016</td>\n",
       "      <td>4</td>\n",
       "      <td>17</td>\n",
       "      <td>27</td>\n",
       "      <td>13</td>\n",
       "      <td>30</td>\n",
       "      <td>2</td>\n",
       "    </tr>\n",
       "  </tbody>\n",
       "</table>\n",
       "<p>110522 rows × 8 columns</p>\n",
       "</div>"
      ],
      "text/plain": [
       "              ScheduledDay  ScheduledDay_year  ScheduledDay_month  \\\n",
       "0      2016-04-29 18:38:08               2016                   4   \n",
       "1      2016-04-29 16:08:27               2016                   4   \n",
       "2      2016-04-29 16:19:04               2016                   4   \n",
       "3      2016-04-29 17:29:31               2016                   4   \n",
       "4      2016-04-29 16:07:23               2016                   4   \n",
       "...                    ...                ...                 ...   \n",
       "110522 2016-05-03 09:15:35               2016                   5   \n",
       "110523 2016-05-03 07:27:33               2016                   5   \n",
       "110524 2016-04-27 16:03:52               2016                   4   \n",
       "110525 2016-04-27 15:09:23               2016                   4   \n",
       "110526 2016-04-27 13:30:56               2016                   4   \n",
       "\n",
       "        ScheduledDay_week  ScheduledDay_day  ScheduledDay_hour  \\\n",
       "0                      17                29                 18   \n",
       "1                      17                29                 16   \n",
       "2                      17                29                 16   \n",
       "3                      17                29                 17   \n",
       "4                      17                29                 16   \n",
       "...                   ...               ...                ...   \n",
       "110522                 18                 3                  9   \n",
       "110523                 18                 3                  7   \n",
       "110524                 17                27                 16   \n",
       "110525                 17                27                 15   \n",
       "110526                 17                27                 13   \n",
       "\n",
       "        ScheduledDay_minute  ScheduledDay_dayofweek  \n",
       "0                        38                       4  \n",
       "1                         8                       4  \n",
       "2                        19                       4  \n",
       "3                        29                       4  \n",
       "4                         7                       4  \n",
       "...                     ...                     ...  \n",
       "110522                   15                       1  \n",
       "110523                   27                       1  \n",
       "110524                    3                       2  \n",
       "110525                    9                       2  \n",
       "110526                   30                       2  \n",
       "\n",
       "[110522 rows x 8 columns]"
      ]
     },
     "execution_count": 28,
     "metadata": {},
     "output_type": "execute_result"
    }
   ],
   "source": [
    "# verifying changes for ScheduledDay\n",
    "df[['ScheduledDay', 'ScheduledDay_year', 'ScheduledDay_month', 'ScheduledDay_week', 'ScheduledDay_day', 'ScheduledDay_hour', 'ScheduledDay_minute', 'ScheduledDay_dayofweek']]"
   ]
  },
  {
   "cell_type": "code",
   "execution_count": 29,
   "id": "233afc0d",
   "metadata": {
    "ExecuteTime": {
     "end_time": "2021-07-03T01:25:11.418924Z",
     "start_time": "2021-07-03T01:25:11.233464Z"
    }
   },
   "outputs": [],
   "source": [
    "# for AppointmentDay column\n",
    "df['AppointmentDay_year'] = df['AppointmentDay'].dt.year\n",
    "df['AppointmentDay_month'] = df['AppointmentDay'].dt.month\n",
    "df['AppointmentDay_week'] = df['AppointmentDay'].dt.isocalendar().week\n",
    "df['AppointmentDay_day'] = df['AppointmentDay'].dt.day\n",
    "df['AppointmentDay_hour'] = df['AppointmentDay'].dt.hour\n",
    "df['AppointmentDay_minute'] = df['AppointmentDay'].dt.minute\n",
    "df['AppointmentDay_dayofweek'] = df['AppointmentDay'].dt.dayofweek"
   ]
  },
  {
   "cell_type": "code",
   "execution_count": 30,
   "id": "84aff471",
   "metadata": {
    "ExecuteTime": {
     "end_time": "2021-07-03T01:25:11.495758Z",
     "start_time": "2021-07-03T01:25:11.423906Z"
    }
   },
   "outputs": [
    {
     "data": {
      "text/html": [
       "<div>\n",
       "<style scoped>\n",
       "    .dataframe tbody tr th:only-of-type {\n",
       "        vertical-align: middle;\n",
       "    }\n",
       "\n",
       "    .dataframe tbody tr th {\n",
       "        vertical-align: top;\n",
       "    }\n",
       "\n",
       "    .dataframe thead th {\n",
       "        text-align: right;\n",
       "    }\n",
       "</style>\n",
       "<table border=\"1\" class=\"dataframe\">\n",
       "  <thead>\n",
       "    <tr style=\"text-align: right;\">\n",
       "      <th></th>\n",
       "      <th>AppointmentDay</th>\n",
       "      <th>AppointmentDay_year</th>\n",
       "      <th>AppointmentDay_month</th>\n",
       "      <th>AppointmentDay_week</th>\n",
       "      <th>AppointmentDay_day</th>\n",
       "      <th>AppointmentDay_hour</th>\n",
       "      <th>AppointmentDay_minute</th>\n",
       "      <th>AppointmentDay_dayofweek</th>\n",
       "    </tr>\n",
       "  </thead>\n",
       "  <tbody>\n",
       "    <tr>\n",
       "      <th>0</th>\n",
       "      <td>2016-04-29 23:59:59</td>\n",
       "      <td>2016</td>\n",
       "      <td>4</td>\n",
       "      <td>17</td>\n",
       "      <td>29</td>\n",
       "      <td>23</td>\n",
       "      <td>59</td>\n",
       "      <td>4</td>\n",
       "    </tr>\n",
       "    <tr>\n",
       "      <th>1</th>\n",
       "      <td>2016-04-29 23:59:59</td>\n",
       "      <td>2016</td>\n",
       "      <td>4</td>\n",
       "      <td>17</td>\n",
       "      <td>29</td>\n",
       "      <td>23</td>\n",
       "      <td>59</td>\n",
       "      <td>4</td>\n",
       "    </tr>\n",
       "    <tr>\n",
       "      <th>2</th>\n",
       "      <td>2016-04-29 23:59:59</td>\n",
       "      <td>2016</td>\n",
       "      <td>4</td>\n",
       "      <td>17</td>\n",
       "      <td>29</td>\n",
       "      <td>23</td>\n",
       "      <td>59</td>\n",
       "      <td>4</td>\n",
       "    </tr>\n",
       "    <tr>\n",
       "      <th>3</th>\n",
       "      <td>2016-04-29 23:59:59</td>\n",
       "      <td>2016</td>\n",
       "      <td>4</td>\n",
       "      <td>17</td>\n",
       "      <td>29</td>\n",
       "      <td>23</td>\n",
       "      <td>59</td>\n",
       "      <td>4</td>\n",
       "    </tr>\n",
       "    <tr>\n",
       "      <th>4</th>\n",
       "      <td>2016-04-29 23:59:59</td>\n",
       "      <td>2016</td>\n",
       "      <td>4</td>\n",
       "      <td>17</td>\n",
       "      <td>29</td>\n",
       "      <td>23</td>\n",
       "      <td>59</td>\n",
       "      <td>4</td>\n",
       "    </tr>\n",
       "    <tr>\n",
       "      <th>...</th>\n",
       "      <td>...</td>\n",
       "      <td>...</td>\n",
       "      <td>...</td>\n",
       "      <td>...</td>\n",
       "      <td>...</td>\n",
       "      <td>...</td>\n",
       "      <td>...</td>\n",
       "      <td>...</td>\n",
       "    </tr>\n",
       "    <tr>\n",
       "      <th>110522</th>\n",
       "      <td>2016-06-07 23:59:59</td>\n",
       "      <td>2016</td>\n",
       "      <td>6</td>\n",
       "      <td>23</td>\n",
       "      <td>7</td>\n",
       "      <td>23</td>\n",
       "      <td>59</td>\n",
       "      <td>1</td>\n",
       "    </tr>\n",
       "    <tr>\n",
       "      <th>110523</th>\n",
       "      <td>2016-06-07 23:59:59</td>\n",
       "      <td>2016</td>\n",
       "      <td>6</td>\n",
       "      <td>23</td>\n",
       "      <td>7</td>\n",
       "      <td>23</td>\n",
       "      <td>59</td>\n",
       "      <td>1</td>\n",
       "    </tr>\n",
       "    <tr>\n",
       "      <th>110524</th>\n",
       "      <td>2016-06-07 23:59:59</td>\n",
       "      <td>2016</td>\n",
       "      <td>6</td>\n",
       "      <td>23</td>\n",
       "      <td>7</td>\n",
       "      <td>23</td>\n",
       "      <td>59</td>\n",
       "      <td>1</td>\n",
       "    </tr>\n",
       "    <tr>\n",
       "      <th>110525</th>\n",
       "      <td>2016-06-07 23:59:59</td>\n",
       "      <td>2016</td>\n",
       "      <td>6</td>\n",
       "      <td>23</td>\n",
       "      <td>7</td>\n",
       "      <td>23</td>\n",
       "      <td>59</td>\n",
       "      <td>1</td>\n",
       "    </tr>\n",
       "    <tr>\n",
       "      <th>110526</th>\n",
       "      <td>2016-06-07 23:59:59</td>\n",
       "      <td>2016</td>\n",
       "      <td>6</td>\n",
       "      <td>23</td>\n",
       "      <td>7</td>\n",
       "      <td>23</td>\n",
       "      <td>59</td>\n",
       "      <td>1</td>\n",
       "    </tr>\n",
       "  </tbody>\n",
       "</table>\n",
       "<p>110522 rows × 8 columns</p>\n",
       "</div>"
      ],
      "text/plain": [
       "            AppointmentDay  AppointmentDay_year  AppointmentDay_month  \\\n",
       "0      2016-04-29 23:59:59                 2016                     4   \n",
       "1      2016-04-29 23:59:59                 2016                     4   \n",
       "2      2016-04-29 23:59:59                 2016                     4   \n",
       "3      2016-04-29 23:59:59                 2016                     4   \n",
       "4      2016-04-29 23:59:59                 2016                     4   \n",
       "...                    ...                  ...                   ...   \n",
       "110522 2016-06-07 23:59:59                 2016                     6   \n",
       "110523 2016-06-07 23:59:59                 2016                     6   \n",
       "110524 2016-06-07 23:59:59                 2016                     6   \n",
       "110525 2016-06-07 23:59:59                 2016                     6   \n",
       "110526 2016-06-07 23:59:59                 2016                     6   \n",
       "\n",
       "        AppointmentDay_week  AppointmentDay_day  AppointmentDay_hour  \\\n",
       "0                        17                  29                   23   \n",
       "1                        17                  29                   23   \n",
       "2                        17                  29                   23   \n",
       "3                        17                  29                   23   \n",
       "4                        17                  29                   23   \n",
       "...                     ...                 ...                  ...   \n",
       "110522                   23                   7                   23   \n",
       "110523                   23                   7                   23   \n",
       "110524                   23                   7                   23   \n",
       "110525                   23                   7                   23   \n",
       "110526                   23                   7                   23   \n",
       "\n",
       "        AppointmentDay_minute  AppointmentDay_dayofweek  \n",
       "0                          59                         4  \n",
       "1                          59                         4  \n",
       "2                          59                         4  \n",
       "3                          59                         4  \n",
       "4                          59                         4  \n",
       "...                       ...                       ...  \n",
       "110522                     59                         1  \n",
       "110523                     59                         1  \n",
       "110524                     59                         1  \n",
       "110525                     59                         1  \n",
       "110526                     59                         1  \n",
       "\n",
       "[110522 rows x 8 columns]"
      ]
     },
     "execution_count": 30,
     "metadata": {},
     "output_type": "execute_result"
    }
   ],
   "source": [
    "# verifying changes for AppointmentDay\n",
    "df[['AppointmentDay', 'AppointmentDay_year', 'AppointmentDay_month', 'AppointmentDay_week', 'AppointmentDay_day', 'AppointmentDay_hour', 'AppointmentDay_minute', 'AppointmentDay_dayofweek']]"
   ]
  },
  {
   "cell_type": "code",
   "execution_count": null,
   "id": "6678e462",
   "metadata": {},
   "outputs": [],
   "source": []
  },
  {
   "cell_type": "code",
   "execution_count": 31,
   "id": "64b9c33f",
   "metadata": {
    "ExecuteTime": {
     "end_time": "2021-07-03T01:25:11.527785Z",
     "start_time": "2021-07-03T01:25:11.498705Z"
    }
   },
   "outputs": [
    {
     "data": {
      "text/plain": [
       "AppointmentDay_year\n",
       "2016    110522\n",
       "dtype: int64"
      ]
     },
     "execution_count": 31,
     "metadata": {},
     "output_type": "execute_result"
    }
   ],
   "source": [
    "# exploring the appointment dates\n",
    "df.groupby('AppointmentDay_year').size()"
   ]
  },
  {
   "cell_type": "code",
   "execution_count": 32,
   "id": "5fbbccd7",
   "metadata": {
    "ExecuteTime": {
     "end_time": "2021-07-03T01:25:11.605208Z",
     "start_time": "2021-07-03T01:25:11.530619Z"
    }
   },
   "outputs": [
    {
     "data": {
      "text/plain": [
       "AppointmentDay_month\n",
       "4     3235\n",
       "5    80836\n",
       "6    26451\n",
       "dtype: int64"
      ]
     },
     "execution_count": 32,
     "metadata": {},
     "output_type": "execute_result"
    }
   ],
   "source": [
    "df.groupby('AppointmentDay_month').size()"
   ]
  },
  {
   "cell_type": "code",
   "execution_count": 33,
   "id": "139d2e18",
   "metadata": {
    "ExecuteTime": {
     "end_time": "2021-07-03T01:25:11.743492Z",
     "start_time": "2021-07-03T01:25:11.609994Z"
    }
   },
   "outputs": [
    {
     "data": {
      "text/plain": [
       "AppointmentDay_dayofweek\n",
       "0    22714\n",
       "1    25638\n",
       "2    25866\n",
       "3    17246\n",
       "4    19019\n",
       "5       39\n",
       "dtype: int64"
      ]
     },
     "execution_count": 33,
     "metadata": {},
     "output_type": "execute_result"
    }
   ],
   "source": [
    "df.groupby('AppointmentDay_dayofweek').size()"
   ]
  },
  {
   "cell_type": "code",
   "execution_count": 34,
   "id": "c9d5808e",
   "metadata": {
    "ExecuteTime": {
     "end_time": "2021-07-03T01:25:11.867944Z",
     "start_time": "2021-07-03T01:25:11.748479Z"
    }
   },
   "outputs": [],
   "source": [
    "# from the above results, we can see that\n",
    "# all the appointments are in the same 2016\n",
    "# all the appointments are in April, May, and June (4,5,6)\n",
    "# major appointment dates range from Monday to Friday\n",
    "# there are only few (39) appointments on saturday and no in sunday \n",
    "\n",
    "# year is preferred to be avoided as the data set contains past year and the model is to predict the future using future data\n",
    "# here are only three months, this incomplete teature / columns should not be used"
   ]
  },
  {
   "cell_type": "code",
   "execution_count": 35,
   "id": "fdd5dabe",
   "metadata": {
    "ExecuteTime": {
     "end_time": "2021-07-03T01:25:12.241057Z",
     "start_time": "2021-07-03T01:25:11.873880Z"
    }
   },
   "outputs": [
    {
     "data": {
      "text/plain": [
       "AppointmentDay_dayofweek\n",
       "0    0.206437\n",
       "1    0.200874\n",
       "2    0.196861\n",
       "3    0.193494\n",
       "4    0.212261\n",
       "5    0.230769\n",
       "dtype: float64"
      ]
     },
     "execution_count": 35,
     "metadata": {},
     "output_type": "execute_result"
    }
   ],
   "source": [
    "# lets see if dayofweek is predictive of no-show\n",
    "df.groupby('AppointmentDay_dayofweek').apply(lambda g: calc_prevalence(g.OUTPUT_LABEL.values))"
   ]
  },
  {
   "cell_type": "code",
   "execution_count": 36,
   "id": "a1446fa9",
   "metadata": {
    "ExecuteTime": {
     "end_time": "2021-07-03T01:25:12.257088Z",
     "start_time": "2021-07-03T01:25:12.244048Z"
    }
   },
   "outputs": [],
   "source": [
    "# according to the data\n",
    "# more people skip their appointments on Friday and Saturday"
   ]
  },
  {
   "cell_type": "code",
   "execution_count": 37,
   "id": "341afc24",
   "metadata": {
    "ExecuteTime": {
     "end_time": "2021-07-03T01:25:12.961547Z",
     "start_time": "2021-07-03T01:25:12.260006Z"
    }
   },
   "outputs": [
    {
     "data": {
      "text/plain": [
       "count    110522.000000\n",
       "mean         10.714825\n",
       "std          15.244190\n",
       "min           0.135475\n",
       "25%           0.653857\n",
       "50%           4.474763\n",
       "75%          15.320628\n",
       "max         179.554861\n",
       "Name: delta_days, dtype: float64"
      ]
     },
     "execution_count": 37,
     "metadata": {},
     "output_type": "execute_result"
    }
   ],
   "source": [
    "# dt.total_seconds() is used because\n",
    "# dt.days rounds to the nearest day\n",
    "# dt.days is slower than dt.total_seconds\n",
    "# dt.total_seconds can give seconds, minutes, hours, days, ...\n",
    "\n",
    "df['delta_days']= (df['AppointmentDay'] - df['ScheduledDay']).dt.total_seconds()/(60*60*24)\n",
    "df.delta_days.describe()"
   ]
  },
  {
   "cell_type": "code",
   "execution_count": null,
   "id": "8c8bc3ea",
   "metadata": {},
   "outputs": [],
   "source": []
  },
  {
   "cell_type": "code",
   "execution_count": 38,
   "id": "dc6786ff",
   "metadata": {
    "ExecuteTime": {
     "end_time": "2021-07-03T01:25:15.056015Z",
     "start_time": "2021-07-03T01:25:12.967422Z"
    }
   },
   "outputs": [
    {
     "data": {
      "image/png": "[encoded data removed]",
      "text/plain": [
       "<Figure size 432x288 with 1 Axes>"
      ]
     },
     "metadata": {
      "needs_background": "light"
     },
     "output_type": "display_data"
    }
   ],
   "source": [
    "# plotting a histogram of the two classes\n",
    "\n",
    "plt.hist(df.loc[df.OUTPUT_LABEL == 1, 'delta_days'], label= 'Missed', bins=range(0,60,1), density= True)\n",
    "plt.hist(df.loc[df.OUTPUT_LABEL == 0, 'delta_days'], label= 'Not Missed', bins=range(0,60,1), density= True, alpha= 0.5)\n",
    "\n",
    "plt.xlabel('Days Until Appointment')\n",
    "plt.ylabel('Normed Distribution')\n",
    "plt.xlim(0,40)\n",
    "\n",
    "plt.legend(loc='best')\n",
    "plt.show()"
   ]
  },
  {
   "cell_type": "code",
   "execution_count": 39,
   "id": "a545597b",
   "metadata": {
    "ExecuteTime": {
     "end_time": "2021-07-03T01:25:15.087075Z",
     "start_time": "2021-07-03T01:25:15.064177Z"
    }
   },
   "outputs": [],
   "source": [
    "# from the above histogram, it is seen that\n",
    "# most of the not missed people scheduled the appointment on the same day\n",
    "# walk-in appointments could have been included in this dataset\n",
    "# the model will be biased towards this\n",
    "# the model will say not-missed if you schedule the appointment on the same day"
   ]
  },
  {
   "cell_type": "code",
   "execution_count": null,
   "id": "8d5eadef",
   "metadata": {},
   "outputs": [],
   "source": []
  },
  {
   "cell_type": "code",
   "execution_count": 40,
   "id": "792315e7",
   "metadata": {
    "ExecuteTime": {
     "end_time": "2021-07-03T01:25:15.163997Z",
     "start_time": "2021-07-03T01:25:15.095943Z"
    }
   },
   "outputs": [],
   "source": [
    "# splitting samples\n",
    "# train-validation/test  will be split 70-30 respectively\n",
    "# it is importsnt to shuffle the dataset"
   ]
  },
  {
   "cell_type": "code",
   "execution_count": 74,
   "id": "0a3db6c4",
   "metadata": {
    "ExecuteTime": {
     "end_time": "2021-07-03T01:55:25.431895Z",
     "start_time": "2021-07-03T01:55:25.314042Z"
    }
   },
   "outputs": [
    {
     "data": {
      "text/html": [
       "<div>\n",
       "<style scoped>\n",
       "    .dataframe tbody tr th:only-of-type {\n",
       "        vertical-align: middle;\n",
       "    }\n",
       "\n",
       "    .dataframe tbody tr th {\n",
       "        vertical-align: top;\n",
       "    }\n",
       "\n",
       "    .dataframe thead th {\n",
       "        text-align: right;\n",
       "    }\n",
       "</style>\n",
       "<table border=\"1\" class=\"dataframe\">\n",
       "  <thead>\n",
       "    <tr style=\"text-align: right;\">\n",
       "      <th></th>\n",
       "      <th>PatientId</th>\n",
       "      <th>AppointmentID</th>\n",
       "      <th>Gender</th>\n",
       "      <th>ScheduledDay</th>\n",
       "      <th>AppointmentDay</th>\n",
       "      <th>Age</th>\n",
       "      <th>Neighbourhood</th>\n",
       "      <th>Scholarship</th>\n",
       "      <th>Hipertension</th>\n",
       "      <th>Diabetes</th>\n",
       "      <th>...</th>\n",
       "      <th>ScheduledDay_minute</th>\n",
       "      <th>ScheduledDay_dayofweek</th>\n",
       "      <th>AppointmentDay_year</th>\n",
       "      <th>AppointmentDay_month</th>\n",
       "      <th>AppointmentDay_week</th>\n",
       "      <th>AppointmentDay_day</th>\n",
       "      <th>AppointmentDay_hour</th>\n",
       "      <th>AppointmentDay_minute</th>\n",
       "      <th>AppointmentDay_dayofweek</th>\n",
       "      <th>delta_days</th>\n",
       "    </tr>\n",
       "  </thead>\n",
       "  <tbody>\n",
       "    <tr>\n",
       "      <th>0</th>\n",
       "      <td>7.966198e+14</td>\n",
       "      <td>5684809</td>\n",
       "      <td>M</td>\n",
       "      <td>2016-05-11 09:11:58</td>\n",
       "      <td>2016-05-11 23:59:59</td>\n",
       "      <td>0</td>\n",
       "      <td>SÃO BENEDITO</td>\n",
       "      <td>0</td>\n",
       "      <td>0</td>\n",
       "      <td>0</td>\n",
       "      <td>...</td>\n",
       "      <td>11</td>\n",
       "      <td>2</td>\n",
       "      <td>2016</td>\n",
       "      <td>5</td>\n",
       "      <td>19</td>\n",
       "      <td>11</td>\n",
       "      <td>23</td>\n",
       "      <td>59</td>\n",
       "      <td>2</td>\n",
       "      <td>0.616678</td>\n",
       "    </tr>\n",
       "    <tr>\n",
       "      <th>1</th>\n",
       "      <td>5.867214e+14</td>\n",
       "      <td>5748536</td>\n",
       "      <td>F</td>\n",
       "      <td>2016-05-31 07:07:59</td>\n",
       "      <td>2016-06-02 23:59:59</td>\n",
       "      <td>72</td>\n",
       "      <td>PARQUE MOSCOSO</td>\n",
       "      <td>0</td>\n",
       "      <td>0</td>\n",
       "      <td>0</td>\n",
       "      <td>...</td>\n",
       "      <td>7</td>\n",
       "      <td>1</td>\n",
       "      <td>2016</td>\n",
       "      <td>6</td>\n",
       "      <td>22</td>\n",
       "      <td>2</td>\n",
       "      <td>23</td>\n",
       "      <td>59</td>\n",
       "      <td>3</td>\n",
       "      <td>2.702778</td>\n",
       "    </tr>\n",
       "    <tr>\n",
       "      <th>2</th>\n",
       "      <td>7.151413e+13</td>\n",
       "      <td>5651341</td>\n",
       "      <td>F</td>\n",
       "      <td>2016-05-03 08:42:09</td>\n",
       "      <td>2016-05-06 23:59:59</td>\n",
       "      <td>40</td>\n",
       "      <td>ILHA DO PRÍNCIPE</td>\n",
       "      <td>0</td>\n",
       "      <td>0</td>\n",
       "      <td>0</td>\n",
       "      <td>...</td>\n",
       "      <td>42</td>\n",
       "      <td>1</td>\n",
       "      <td>2016</td>\n",
       "      <td>5</td>\n",
       "      <td>18</td>\n",
       "      <td>6</td>\n",
       "      <td>23</td>\n",
       "      <td>59</td>\n",
       "      <td>4</td>\n",
       "      <td>3.637384</td>\n",
       "    </tr>\n",
       "    <tr>\n",
       "      <th>3</th>\n",
       "      <td>8.523459e+13</td>\n",
       "      <td>5695263</td>\n",
       "      <td>M</td>\n",
       "      <td>2016-05-13 09:51:06</td>\n",
       "      <td>2016-05-16 23:59:59</td>\n",
       "      <td>73</td>\n",
       "      <td>ITARARÉ</td>\n",
       "      <td>0</td>\n",
       "      <td>1</td>\n",
       "      <td>1</td>\n",
       "      <td>...</td>\n",
       "      <td>51</td>\n",
       "      <td>4</td>\n",
       "      <td>2016</td>\n",
       "      <td>5</td>\n",
       "      <td>20</td>\n",
       "      <td>16</td>\n",
       "      <td>23</td>\n",
       "      <td>59</td>\n",
       "      <td>0</td>\n",
       "      <td>3.589502</td>\n",
       "    </tr>\n",
       "    <tr>\n",
       "      <th>4</th>\n",
       "      <td>9.727971e+12</td>\n",
       "      <td>5594173</td>\n",
       "      <td>M</td>\n",
       "      <td>2016-04-18 10:20:32</td>\n",
       "      <td>2016-05-02 23:59:59</td>\n",
       "      <td>55</td>\n",
       "      <td>GRANDE VITÓRIA</td>\n",
       "      <td>0</td>\n",
       "      <td>0</td>\n",
       "      <td>0</td>\n",
       "      <td>...</td>\n",
       "      <td>20</td>\n",
       "      <td>0</td>\n",
       "      <td>2016</td>\n",
       "      <td>5</td>\n",
       "      <td>18</td>\n",
       "      <td>2</td>\n",
       "      <td>23</td>\n",
       "      <td>59</td>\n",
       "      <td>0</td>\n",
       "      <td>14.569062</td>\n",
       "    </tr>\n",
       "    <tr>\n",
       "      <th>...</th>\n",
       "      <td>...</td>\n",
       "      <td>...</td>\n",
       "      <td>...</td>\n",
       "      <td>...</td>\n",
       "      <td>...</td>\n",
       "      <td>...</td>\n",
       "      <td>...</td>\n",
       "      <td>...</td>\n",
       "      <td>...</td>\n",
       "      <td>...</td>\n",
       "      <td>...</td>\n",
       "      <td>...</td>\n",
       "      <td>...</td>\n",
       "      <td>...</td>\n",
       "      <td>...</td>\n",
       "      <td>...</td>\n",
       "      <td>...</td>\n",
       "      <td>...</td>\n",
       "      <td>...</td>\n",
       "      <td>...</td>\n",
       "      <td>...</td>\n",
       "    </tr>\n",
       "    <tr>\n",
       "      <th>110517</th>\n",
       "      <td>8.845146e+10</td>\n",
       "      <td>5748192</td>\n",
       "      <td>F</td>\n",
       "      <td>2016-05-30 17:35:04</td>\n",
       "      <td>2016-05-31 23:59:59</td>\n",
       "      <td>44</td>\n",
       "      <td>COMDUSA</td>\n",
       "      <td>0</td>\n",
       "      <td>1</td>\n",
       "      <td>0</td>\n",
       "      <td>...</td>\n",
       "      <td>35</td>\n",
       "      <td>0</td>\n",
       "      <td>2016</td>\n",
       "      <td>5</td>\n",
       "      <td>22</td>\n",
       "      <td>31</td>\n",
       "      <td>23</td>\n",
       "      <td>59</td>\n",
       "      <td>1</td>\n",
       "      <td>1.267303</td>\n",
       "    </tr>\n",
       "    <tr>\n",
       "      <th>110518</th>\n",
       "      <td>2.893725e+13</td>\n",
       "      <td>5623309</td>\n",
       "      <td>F</td>\n",
       "      <td>2016-04-26 13:50:59</td>\n",
       "      <td>2016-06-01 23:59:59</td>\n",
       "      <td>60</td>\n",
       "      <td>MARIA ORTIZ</td>\n",
       "      <td>0</td>\n",
       "      <td>0</td>\n",
       "      <td>0</td>\n",
       "      <td>...</td>\n",
       "      <td>50</td>\n",
       "      <td>1</td>\n",
       "      <td>2016</td>\n",
       "      <td>6</td>\n",
       "      <td>22</td>\n",
       "      <td>1</td>\n",
       "      <td>23</td>\n",
       "      <td>59</td>\n",
       "      <td>2</td>\n",
       "      <td>36.422917</td>\n",
       "    </tr>\n",
       "    <tr>\n",
       "      <th>110519</th>\n",
       "      <td>3.344177e+12</td>\n",
       "      <td>5675926</td>\n",
       "      <td>M</td>\n",
       "      <td>2016-05-09 14:42:28</td>\n",
       "      <td>2016-06-08 23:59:59</td>\n",
       "      <td>56</td>\n",
       "      <td>ITARARÉ</td>\n",
       "      <td>0</td>\n",
       "      <td>0</td>\n",
       "      <td>0</td>\n",
       "      <td>...</td>\n",
       "      <td>42</td>\n",
       "      <td>0</td>\n",
       "      <td>2016</td>\n",
       "      <td>6</td>\n",
       "      <td>23</td>\n",
       "      <td>8</td>\n",
       "      <td>23</td>\n",
       "      <td>59</td>\n",
       "      <td>2</td>\n",
       "      <td>30.387164</td>\n",
       "    </tr>\n",
       "    <tr>\n",
       "      <th>110520</th>\n",
       "      <td>2.623493e+14</td>\n",
       "      <td>5639951</td>\n",
       "      <td>F</td>\n",
       "      <td>2016-04-29 09:52:19</td>\n",
       "      <td>2016-04-29 23:59:59</td>\n",
       "      <td>18</td>\n",
       "      <td>MARUÍPE</td>\n",
       "      <td>1</td>\n",
       "      <td>0</td>\n",
       "      <td>0</td>\n",
       "      <td>...</td>\n",
       "      <td>52</td>\n",
       "      <td>4</td>\n",
       "      <td>2016</td>\n",
       "      <td>4</td>\n",
       "      <td>17</td>\n",
       "      <td>29</td>\n",
       "      <td>23</td>\n",
       "      <td>59</td>\n",
       "      <td>4</td>\n",
       "      <td>0.588657</td>\n",
       "    </tr>\n",
       "    <tr>\n",
       "      <th>110521</th>\n",
       "      <td>1.821131e+14</td>\n",
       "      <td>5637593</td>\n",
       "      <td>M</td>\n",
       "      <td>2016-04-29 07:10:42</td>\n",
       "      <td>2016-05-11 23:59:59</td>\n",
       "      <td>9</td>\n",
       "      <td>ILHA DO PRÍNCIPE</td>\n",
       "      <td>1</td>\n",
       "      <td>0</td>\n",
       "      <td>0</td>\n",
       "      <td>...</td>\n",
       "      <td>10</td>\n",
       "      <td>4</td>\n",
       "      <td>2016</td>\n",
       "      <td>5</td>\n",
       "      <td>19</td>\n",
       "      <td>11</td>\n",
       "      <td>23</td>\n",
       "      <td>59</td>\n",
       "      <td>2</td>\n",
       "      <td>12.700891</td>\n",
       "    </tr>\n",
       "  </tbody>\n",
       "</table>\n",
       "<p>110522 rows × 30 columns</p>\n",
       "</div>"
      ],
      "text/plain": [
       "           PatientId  AppointmentID Gender        ScheduledDay  \\\n",
       "0       7.966198e+14        5684809      M 2016-05-11 09:11:58   \n",
       "1       5.867214e+14        5748536      F 2016-05-31 07:07:59   \n",
       "2       7.151413e+13        5651341      F 2016-05-03 08:42:09   \n",
       "3       8.523459e+13        5695263      M 2016-05-13 09:51:06   \n",
       "4       9.727971e+12        5594173      M 2016-04-18 10:20:32   \n",
       "...              ...            ...    ...                 ...   \n",
       "110517  8.845146e+10        5748192      F 2016-05-30 17:35:04   \n",
       "110518  2.893725e+13        5623309      F 2016-04-26 13:50:59   \n",
       "110519  3.344177e+12        5675926      M 2016-05-09 14:42:28   \n",
       "110520  2.623493e+14        5639951      F 2016-04-29 09:52:19   \n",
       "110521  1.821131e+14        5637593      M 2016-04-29 07:10:42   \n",
       "\n",
       "            AppointmentDay  Age     Neighbourhood  Scholarship  Hipertension  \\\n",
       "0      2016-05-11 23:59:59    0      SÃO BENEDITO            0             0   \n",
       "1      2016-06-02 23:59:59   72    PARQUE MOSCOSO            0             0   \n",
       "2      2016-05-06 23:59:59   40  ILHA DO PRÍNCIPE            0             0   \n",
       "3      2016-05-16 23:59:59   73           ITARARÉ            0             1   \n",
       "4      2016-05-02 23:59:59   55    GRANDE VITÓRIA            0             0   \n",
       "...                    ...  ...               ...          ...           ...   \n",
       "110517 2016-05-31 23:59:59   44           COMDUSA            0             1   \n",
       "110518 2016-06-01 23:59:59   60       MARIA ORTIZ            0             0   \n",
       "110519 2016-06-08 23:59:59   56           ITARARÉ            0             0   \n",
       "110520 2016-04-29 23:59:59   18           MARUÍPE            1             0   \n",
       "110521 2016-05-11 23:59:59    9  ILHA DO PRÍNCIPE            1             0   \n",
       "\n",
       "        Diabetes  ...  ScheduledDay_minute  ScheduledDay_dayofweek  \\\n",
       "0              0  ...                   11                       2   \n",
       "1              0  ...                    7                       1   \n",
       "2              0  ...                   42                       1   \n",
       "3              1  ...                   51                       4   \n",
       "4              0  ...                   20                       0   \n",
       "...          ...  ...                  ...                     ...   \n",
       "110517         0  ...                   35                       0   \n",
       "110518         0  ...                   50                       1   \n",
       "110519         0  ...                   42                       0   \n",
       "110520         0  ...                   52                       4   \n",
       "110521         0  ...                   10                       4   \n",
       "\n",
       "        AppointmentDay_year AppointmentDay_month  AppointmentDay_week  \\\n",
       "0                      2016                    5                   19   \n",
       "1                      2016                    6                   22   \n",
       "2                      2016                    5                   18   \n",
       "3                      2016                    5                   20   \n",
       "4                      2016                    5                   18   \n",
       "...                     ...                  ...                  ...   \n",
       "110517                 2016                    5                   22   \n",
       "110518                 2016                    6                   22   \n",
       "110519                 2016                    6                   23   \n",
       "110520                 2016                    4                   17   \n",
       "110521                 2016                    5                   19   \n",
       "\n",
       "        AppointmentDay_day  AppointmentDay_hour  AppointmentDay_minute  \\\n",
       "0                       11                   23                     59   \n",
       "1                        2                   23                     59   \n",
       "2                        6                   23                     59   \n",
       "3                       16                   23                     59   \n",
       "4                        2                   23                     59   \n",
       "...                    ...                  ...                    ...   \n",
       "110517                  31                   23                     59   \n",
       "110518                   1                   23                     59   \n",
       "110519                   8                   23                     59   \n",
       "110520                  29                   23                     59   \n",
       "110521                  11                   23                     59   \n",
       "\n",
       "        AppointmentDay_dayofweek  delta_days  \n",
       "0                              2    0.616678  \n",
       "1                              3    2.702778  \n",
       "2                              4    3.637384  \n",
       "3                              0    3.589502  \n",
       "4                              0   14.569062  \n",
       "...                          ...         ...  \n",
       "110517                         1    1.267303  \n",
       "110518                         2   36.422917  \n",
       "110519                         2   30.387164  \n",
       "110520                         4    0.588657  \n",
       "110521                         2   12.700891  \n",
       "\n",
       "[110522 rows x 30 columns]"
      ]
     },
     "execution_count": 74,
     "metadata": {},
     "output_type": "execute_result"
    }
   ],
   "source": [
    "# shuffling the samples\n",
    "df_final = df.sample( n= len(df), random_state= 42)\n",
    "df_final = df_final.reset_index(drop = True)\n",
    "df_final"
   ]
  },
  {
   "cell_type": "code",
   "execution_count": 75,
   "id": "de0a02a5",
   "metadata": {
    "ExecuteTime": {
     "end_time": "2021-07-03T01:55:58.676228Z",
     "start_time": "2021-07-03T01:55:58.625334Z"
    }
   },
   "outputs": [],
   "source": [
    "# train-test splitting\n",
    "df_test = df_final.sample(frac= 0.3, random_state= 42)\n",
    "df_train = df_final.drop(df_test.index)"
   ]
  },
  {
   "cell_type": "code",
   "execution_count": 76,
   "id": "76dfc555",
   "metadata": {
    "ExecuteTime": {
     "end_time": "2021-07-03T01:56:02.056783Z",
     "start_time": "2021-07-03T01:56:02.004921Z"
    }
   },
   "outputs": [
    {
     "data": {
      "text/html": [
       "<div>\n",
       "<style scoped>\n",
       "    .dataframe tbody tr th:only-of-type {\n",
       "        vertical-align: middle;\n",
       "    }\n",
       "\n",
       "    .dataframe tbody tr th {\n",
       "        vertical-align: top;\n",
       "    }\n",
       "\n",
       "    .dataframe thead th {\n",
       "        text-align: right;\n",
       "    }\n",
       "</style>\n",
       "<table border=\"1\" class=\"dataframe\">\n",
       "  <thead>\n",
       "    <tr style=\"text-align: right;\">\n",
       "      <th></th>\n",
       "      <th>PatientId</th>\n",
       "      <th>AppointmentID</th>\n",
       "      <th>Gender</th>\n",
       "      <th>ScheduledDay</th>\n",
       "      <th>AppointmentDay</th>\n",
       "      <th>Age</th>\n",
       "      <th>Neighbourhood</th>\n",
       "      <th>Scholarship</th>\n",
       "      <th>Hipertension</th>\n",
       "      <th>Diabetes</th>\n",
       "      <th>...</th>\n",
       "      <th>ScheduledDay_minute</th>\n",
       "      <th>ScheduledDay_dayofweek</th>\n",
       "      <th>AppointmentDay_year</th>\n",
       "      <th>AppointmentDay_month</th>\n",
       "      <th>AppointmentDay_week</th>\n",
       "      <th>AppointmentDay_day</th>\n",
       "      <th>AppointmentDay_hour</th>\n",
       "      <th>AppointmentDay_minute</th>\n",
       "      <th>AppointmentDay_dayofweek</th>\n",
       "      <th>delta_days</th>\n",
       "    </tr>\n",
       "  </thead>\n",
       "  <tbody>\n",
       "    <tr>\n",
       "      <th>0</th>\n",
       "      <td>7.966198e+14</td>\n",
       "      <td>5684809</td>\n",
       "      <td>M</td>\n",
       "      <td>2016-05-11 09:11:58</td>\n",
       "      <td>2016-05-11 23:59:59</td>\n",
       "      <td>0</td>\n",
       "      <td>SÃO BENEDITO</td>\n",
       "      <td>0</td>\n",
       "      <td>0</td>\n",
       "      <td>0</td>\n",
       "      <td>...</td>\n",
       "      <td>11</td>\n",
       "      <td>2</td>\n",
       "      <td>2016</td>\n",
       "      <td>5</td>\n",
       "      <td>19</td>\n",
       "      <td>11</td>\n",
       "      <td>23</td>\n",
       "      <td>59</td>\n",
       "      <td>2</td>\n",
       "      <td>0.616678</td>\n",
       "    </tr>\n",
       "    <tr>\n",
       "      <th>1</th>\n",
       "      <td>5.867214e+14</td>\n",
       "      <td>5748536</td>\n",
       "      <td>F</td>\n",
       "      <td>2016-05-31 07:07:59</td>\n",
       "      <td>2016-06-02 23:59:59</td>\n",
       "      <td>72</td>\n",
       "      <td>PARQUE MOSCOSO</td>\n",
       "      <td>0</td>\n",
       "      <td>0</td>\n",
       "      <td>0</td>\n",
       "      <td>...</td>\n",
       "      <td>7</td>\n",
       "      <td>1</td>\n",
       "      <td>2016</td>\n",
       "      <td>6</td>\n",
       "      <td>22</td>\n",
       "      <td>2</td>\n",
       "      <td>23</td>\n",
       "      <td>59</td>\n",
       "      <td>3</td>\n",
       "      <td>2.702778</td>\n",
       "    </tr>\n",
       "    <tr>\n",
       "      <th>2</th>\n",
       "      <td>7.151413e+13</td>\n",
       "      <td>5651341</td>\n",
       "      <td>F</td>\n",
       "      <td>2016-05-03 08:42:09</td>\n",
       "      <td>2016-05-06 23:59:59</td>\n",
       "      <td>40</td>\n",
       "      <td>ILHA DO PRÍNCIPE</td>\n",
       "      <td>0</td>\n",
       "      <td>0</td>\n",
       "      <td>0</td>\n",
       "      <td>...</td>\n",
       "      <td>42</td>\n",
       "      <td>1</td>\n",
       "      <td>2016</td>\n",
       "      <td>5</td>\n",
       "      <td>18</td>\n",
       "      <td>6</td>\n",
       "      <td>23</td>\n",
       "      <td>59</td>\n",
       "      <td>4</td>\n",
       "      <td>3.637384</td>\n",
       "    </tr>\n",
       "    <tr>\n",
       "      <th>4</th>\n",
       "      <td>9.727971e+12</td>\n",
       "      <td>5594173</td>\n",
       "      <td>M</td>\n",
       "      <td>2016-04-18 10:20:32</td>\n",
       "      <td>2016-05-02 23:59:59</td>\n",
       "      <td>55</td>\n",
       "      <td>GRANDE VITÓRIA</td>\n",
       "      <td>0</td>\n",
       "      <td>0</td>\n",
       "      <td>0</td>\n",
       "      <td>...</td>\n",
       "      <td>20</td>\n",
       "      <td>0</td>\n",
       "      <td>2016</td>\n",
       "      <td>5</td>\n",
       "      <td>18</td>\n",
       "      <td>2</td>\n",
       "      <td>23</td>\n",
       "      <td>59</td>\n",
       "      <td>0</td>\n",
       "      <td>14.569062</td>\n",
       "    </tr>\n",
       "    <tr>\n",
       "      <th>5</th>\n",
       "      <td>2.378175e+13</td>\n",
       "      <td>5658584</td>\n",
       "      <td>F</td>\n",
       "      <td>2016-05-04 11:24:09</td>\n",
       "      <td>2016-05-06 23:59:59</td>\n",
       "      <td>31</td>\n",
       "      <td>CONSOLAÇÃO</td>\n",
       "      <td>1</td>\n",
       "      <td>0</td>\n",
       "      <td>0</td>\n",
       "      <td>...</td>\n",
       "      <td>24</td>\n",
       "      <td>2</td>\n",
       "      <td>2016</td>\n",
       "      <td>5</td>\n",
       "      <td>18</td>\n",
       "      <td>6</td>\n",
       "      <td>23</td>\n",
       "      <td>59</td>\n",
       "      <td>4</td>\n",
       "      <td>2.524884</td>\n",
       "    </tr>\n",
       "    <tr>\n",
       "      <th>...</th>\n",
       "      <td>...</td>\n",
       "      <td>...</td>\n",
       "      <td>...</td>\n",
       "      <td>...</td>\n",
       "      <td>...</td>\n",
       "      <td>...</td>\n",
       "      <td>...</td>\n",
       "      <td>...</td>\n",
       "      <td>...</td>\n",
       "      <td>...</td>\n",
       "      <td>...</td>\n",
       "      <td>...</td>\n",
       "      <td>...</td>\n",
       "      <td>...</td>\n",
       "      <td>...</td>\n",
       "      <td>...</td>\n",
       "      <td>...</td>\n",
       "      <td>...</td>\n",
       "      <td>...</td>\n",
       "      <td>...</td>\n",
       "      <td>...</td>\n",
       "    </tr>\n",
       "    <tr>\n",
       "      <th>110515</th>\n",
       "      <td>9.975667e+14</td>\n",
       "      <td>5721551</td>\n",
       "      <td>F</td>\n",
       "      <td>2016-05-19 16:58:46</td>\n",
       "      <td>2016-05-25 23:59:59</td>\n",
       "      <td>48</td>\n",
       "      <td>CENTRO</td>\n",
       "      <td>0</td>\n",
       "      <td>0</td>\n",
       "      <td>0</td>\n",
       "      <td>...</td>\n",
       "      <td>58</td>\n",
       "      <td>3</td>\n",
       "      <td>2016</td>\n",
       "      <td>5</td>\n",
       "      <td>21</td>\n",
       "      <td>25</td>\n",
       "      <td>23</td>\n",
       "      <td>59</td>\n",
       "      <td>2</td>\n",
       "      <td>6.292512</td>\n",
       "    </tr>\n",
       "    <tr>\n",
       "      <th>110517</th>\n",
       "      <td>8.845146e+10</td>\n",
       "      <td>5748192</td>\n",
       "      <td>F</td>\n",
       "      <td>2016-05-30 17:35:04</td>\n",
       "      <td>2016-05-31 23:59:59</td>\n",
       "      <td>44</td>\n",
       "      <td>COMDUSA</td>\n",
       "      <td>0</td>\n",
       "      <td>1</td>\n",
       "      <td>0</td>\n",
       "      <td>...</td>\n",
       "      <td>35</td>\n",
       "      <td>0</td>\n",
       "      <td>2016</td>\n",
       "      <td>5</td>\n",
       "      <td>22</td>\n",
       "      <td>31</td>\n",
       "      <td>23</td>\n",
       "      <td>59</td>\n",
       "      <td>1</td>\n",
       "      <td>1.267303</td>\n",
       "    </tr>\n",
       "    <tr>\n",
       "      <th>110518</th>\n",
       "      <td>2.893725e+13</td>\n",
       "      <td>5623309</td>\n",
       "      <td>F</td>\n",
       "      <td>2016-04-26 13:50:59</td>\n",
       "      <td>2016-06-01 23:59:59</td>\n",
       "      <td>60</td>\n",
       "      <td>MARIA ORTIZ</td>\n",
       "      <td>0</td>\n",
       "      <td>0</td>\n",
       "      <td>0</td>\n",
       "      <td>...</td>\n",
       "      <td>50</td>\n",
       "      <td>1</td>\n",
       "      <td>2016</td>\n",
       "      <td>6</td>\n",
       "      <td>22</td>\n",
       "      <td>1</td>\n",
       "      <td>23</td>\n",
       "      <td>59</td>\n",
       "      <td>2</td>\n",
       "      <td>36.422917</td>\n",
       "    </tr>\n",
       "    <tr>\n",
       "      <th>110519</th>\n",
       "      <td>3.344177e+12</td>\n",
       "      <td>5675926</td>\n",
       "      <td>M</td>\n",
       "      <td>2016-05-09 14:42:28</td>\n",
       "      <td>2016-06-08 23:59:59</td>\n",
       "      <td>56</td>\n",
       "      <td>ITARARÉ</td>\n",
       "      <td>0</td>\n",
       "      <td>0</td>\n",
       "      <td>0</td>\n",
       "      <td>...</td>\n",
       "      <td>42</td>\n",
       "      <td>0</td>\n",
       "      <td>2016</td>\n",
       "      <td>6</td>\n",
       "      <td>23</td>\n",
       "      <td>8</td>\n",
       "      <td>23</td>\n",
       "      <td>59</td>\n",
       "      <td>2</td>\n",
       "      <td>30.387164</td>\n",
       "    </tr>\n",
       "    <tr>\n",
       "      <th>110520</th>\n",
       "      <td>2.623493e+14</td>\n",
       "      <td>5639951</td>\n",
       "      <td>F</td>\n",
       "      <td>2016-04-29 09:52:19</td>\n",
       "      <td>2016-04-29 23:59:59</td>\n",
       "      <td>18</td>\n",
       "      <td>MARUÍPE</td>\n",
       "      <td>1</td>\n",
       "      <td>0</td>\n",
       "      <td>0</td>\n",
       "      <td>...</td>\n",
       "      <td>52</td>\n",
       "      <td>4</td>\n",
       "      <td>2016</td>\n",
       "      <td>4</td>\n",
       "      <td>17</td>\n",
       "      <td>29</td>\n",
       "      <td>23</td>\n",
       "      <td>59</td>\n",
       "      <td>4</td>\n",
       "      <td>0.588657</td>\n",
       "    </tr>\n",
       "  </tbody>\n",
       "</table>\n",
       "<p>77365 rows × 30 columns</p>\n",
       "</div>"
      ],
      "text/plain": [
       "           PatientId  AppointmentID Gender        ScheduledDay  \\\n",
       "0       7.966198e+14        5684809      M 2016-05-11 09:11:58   \n",
       "1       5.867214e+14        5748536      F 2016-05-31 07:07:59   \n",
       "2       7.151413e+13        5651341      F 2016-05-03 08:42:09   \n",
       "4       9.727971e+12        5594173      M 2016-04-18 10:20:32   \n",
       "5       2.378175e+13        5658584      F 2016-05-04 11:24:09   \n",
       "...              ...            ...    ...                 ...   \n",
       "110515  9.975667e+14        5721551      F 2016-05-19 16:58:46   \n",
       "110517  8.845146e+10        5748192      F 2016-05-30 17:35:04   \n",
       "110518  2.893725e+13        5623309      F 2016-04-26 13:50:59   \n",
       "110519  3.344177e+12        5675926      M 2016-05-09 14:42:28   \n",
       "110520  2.623493e+14        5639951      F 2016-04-29 09:52:19   \n",
       "\n",
       "            AppointmentDay  Age     Neighbourhood  Scholarship  Hipertension  \\\n",
       "0      2016-05-11 23:59:59    0      SÃO BENEDITO            0             0   \n",
       "1      2016-06-02 23:59:59   72    PARQUE MOSCOSO            0             0   \n",
       "2      2016-05-06 23:59:59   40  ILHA DO PRÍNCIPE            0             0   \n",
       "4      2016-05-02 23:59:59   55    GRANDE VITÓRIA            0             0   \n",
       "5      2016-05-06 23:59:59   31        CONSOLAÇÃO            1             0   \n",
       "...                    ...  ...               ...          ...           ...   \n",
       "110515 2016-05-25 23:59:59   48            CENTRO            0             0   \n",
       "110517 2016-05-31 23:59:59   44           COMDUSA            0             1   \n",
       "110518 2016-06-01 23:59:59   60       MARIA ORTIZ            0             0   \n",
       "110519 2016-06-08 23:59:59   56           ITARARÉ            0             0   \n",
       "110520 2016-04-29 23:59:59   18           MARUÍPE            1             0   \n",
       "\n",
       "        Diabetes  ...  ScheduledDay_minute  ScheduledDay_dayofweek  \\\n",
       "0              0  ...                   11                       2   \n",
       "1              0  ...                    7                       1   \n",
       "2              0  ...                   42                       1   \n",
       "4              0  ...                   20                       0   \n",
       "5              0  ...                   24                       2   \n",
       "...          ...  ...                  ...                     ...   \n",
       "110515         0  ...                   58                       3   \n",
       "110517         0  ...                   35                       0   \n",
       "110518         0  ...                   50                       1   \n",
       "110519         0  ...                   42                       0   \n",
       "110520         0  ...                   52                       4   \n",
       "\n",
       "        AppointmentDay_year AppointmentDay_month  AppointmentDay_week  \\\n",
       "0                      2016                    5                   19   \n",
       "1                      2016                    6                   22   \n",
       "2                      2016                    5                   18   \n",
       "4                      2016                    5                   18   \n",
       "5                      2016                    5                   18   \n",
       "...                     ...                  ...                  ...   \n",
       "110515                 2016                    5                   21   \n",
       "110517                 2016                    5                   22   \n",
       "110518                 2016                    6                   22   \n",
       "110519                 2016                    6                   23   \n",
       "110520                 2016                    4                   17   \n",
       "\n",
       "        AppointmentDay_day  AppointmentDay_hour  AppointmentDay_minute  \\\n",
       "0                       11                   23                     59   \n",
       "1                        2                   23                     59   \n",
       "2                        6                   23                     59   \n",
       "4                        2                   23                     59   \n",
       "5                        6                   23                     59   \n",
       "...                    ...                  ...                    ...   \n",
       "110515                  25                   23                     59   \n",
       "110517                  31                   23                     59   \n",
       "110518                   1                   23                     59   \n",
       "110519                   8                   23                     59   \n",
       "110520                  29                   23                     59   \n",
       "\n",
       "        AppointmentDay_dayofweek  delta_days  \n",
       "0                              2    0.616678  \n",
       "1                              3    2.702778  \n",
       "2                              4    3.637384  \n",
       "4                              0   14.569062  \n",
       "5                              4    2.524884  \n",
       "...                          ...         ...  \n",
       "110515                         2    6.292512  \n",
       "110517                         1    1.267303  \n",
       "110518                         2   36.422917  \n",
       "110519                         2   30.387164  \n",
       "110520                         4    0.588657  \n",
       "\n",
       "[77365 rows x 30 columns]"
      ]
     },
     "execution_count": 76,
     "metadata": {},
     "output_type": "execute_result"
    }
   ],
   "source": [
    "df_train"
   ]
  },
  {
   "cell_type": "code",
   "execution_count": 44,
   "id": "1962a520",
   "metadata": {
    "ExecuteTime": {
     "end_time": "2021-07-03T01:25:16.103369Z",
     "start_time": "2021-07-03T01:25:15.979494Z"
    }
   },
   "outputs": [
    {
     "data": {
      "text/html": [
       "<div>\n",
       "<style scoped>\n",
       "    .dataframe tbody tr th:only-of-type {\n",
       "        vertical-align: middle;\n",
       "    }\n",
       "\n",
       "    .dataframe tbody tr th {\n",
       "        vertical-align: top;\n",
       "    }\n",
       "\n",
       "    .dataframe thead th {\n",
       "        text-align: right;\n",
       "    }\n",
       "</style>\n",
       "<table border=\"1\" class=\"dataframe\">\n",
       "  <thead>\n",
       "    <tr style=\"text-align: right;\">\n",
       "      <th></th>\n",
       "      <th>PatientId</th>\n",
       "      <th>AppointmentID</th>\n",
       "      <th>Gender</th>\n",
       "      <th>ScheduledDay</th>\n",
       "      <th>AppointmentDay</th>\n",
       "      <th>Age</th>\n",
       "      <th>Neighbourhood</th>\n",
       "      <th>Scholarship</th>\n",
       "      <th>Hipertension</th>\n",
       "      <th>Diabetes</th>\n",
       "      <th>...</th>\n",
       "      <th>ScheduledDay_minute</th>\n",
       "      <th>ScheduledDay_dayofweek</th>\n",
       "      <th>AppointmentDay_year</th>\n",
       "      <th>AppointmentDay_month</th>\n",
       "      <th>AppointmentDay_week</th>\n",
       "      <th>AppointmentDay_day</th>\n",
       "      <th>AppointmentDay_hour</th>\n",
       "      <th>AppointmentDay_minute</th>\n",
       "      <th>AppointmentDay_dayofweek</th>\n",
       "      <th>delta_days</th>\n",
       "    </tr>\n",
       "  </thead>\n",
       "  <tbody>\n",
       "    <tr>\n",
       "      <th>22726</th>\n",
       "      <td>7.966198e+14</td>\n",
       "      <td>5684809</td>\n",
       "      <td>M</td>\n",
       "      <td>2016-05-11 09:11:58</td>\n",
       "      <td>2016-05-11 23:59:59</td>\n",
       "      <td>0</td>\n",
       "      <td>SÃO BENEDITO</td>\n",
       "      <td>0</td>\n",
       "      <td>0</td>\n",
       "      <td>0</td>\n",
       "      <td>...</td>\n",
       "      <td>11</td>\n",
       "      <td>2</td>\n",
       "      <td>2016</td>\n",
       "      <td>5</td>\n",
       "      <td>19</td>\n",
       "      <td>11</td>\n",
       "      <td>23</td>\n",
       "      <td>59</td>\n",
       "      <td>2</td>\n",
       "      <td>0.616678</td>\n",
       "    </tr>\n",
       "    <tr>\n",
       "      <th>103094</th>\n",
       "      <td>5.867214e+14</td>\n",
       "      <td>5748536</td>\n",
       "      <td>F</td>\n",
       "      <td>2016-05-31 07:07:59</td>\n",
       "      <td>2016-06-02 23:59:59</td>\n",
       "      <td>72</td>\n",
       "      <td>PARQUE MOSCOSO</td>\n",
       "      <td>0</td>\n",
       "      <td>0</td>\n",
       "      <td>0</td>\n",
       "      <td>...</td>\n",
       "      <td>7</td>\n",
       "      <td>1</td>\n",
       "      <td>2016</td>\n",
       "      <td>6</td>\n",
       "      <td>22</td>\n",
       "      <td>2</td>\n",
       "      <td>23</td>\n",
       "      <td>59</td>\n",
       "      <td>3</td>\n",
       "      <td>2.702778</td>\n",
       "    </tr>\n",
       "    <tr>\n",
       "      <th>52044</th>\n",
       "      <td>7.151413e+13</td>\n",
       "      <td>5651341</td>\n",
       "      <td>F</td>\n",
       "      <td>2016-05-03 08:42:09</td>\n",
       "      <td>2016-05-06 23:59:59</td>\n",
       "      <td>40</td>\n",
       "      <td>ILHA DO PRÍNCIPE</td>\n",
       "      <td>0</td>\n",
       "      <td>0</td>\n",
       "      <td>0</td>\n",
       "      <td>...</td>\n",
       "      <td>42</td>\n",
       "      <td>1</td>\n",
       "      <td>2016</td>\n",
       "      <td>5</td>\n",
       "      <td>18</td>\n",
       "      <td>6</td>\n",
       "      <td>23</td>\n",
       "      <td>59</td>\n",
       "      <td>4</td>\n",
       "      <td>3.637384</td>\n",
       "    </tr>\n",
       "    <tr>\n",
       "      <th>56258</th>\n",
       "      <td>8.523459e+13</td>\n",
       "      <td>5695263</td>\n",
       "      <td>M</td>\n",
       "      <td>2016-05-13 09:51:06</td>\n",
       "      <td>2016-05-16 23:59:59</td>\n",
       "      <td>73</td>\n",
       "      <td>ITARARÉ</td>\n",
       "      <td>0</td>\n",
       "      <td>1</td>\n",
       "      <td>1</td>\n",
       "      <td>...</td>\n",
       "      <td>51</td>\n",
       "      <td>4</td>\n",
       "      <td>2016</td>\n",
       "      <td>5</td>\n",
       "      <td>20</td>\n",
       "      <td>16</td>\n",
       "      <td>23</td>\n",
       "      <td>59</td>\n",
       "      <td>0</td>\n",
       "      <td>3.589502</td>\n",
       "    </tr>\n",
       "    <tr>\n",
       "      <th>80842</th>\n",
       "      <td>9.727971e+12</td>\n",
       "      <td>5594173</td>\n",
       "      <td>M</td>\n",
       "      <td>2016-04-18 10:20:32</td>\n",
       "      <td>2016-05-02 23:59:59</td>\n",
       "      <td>55</td>\n",
       "      <td>GRANDE VITÓRIA</td>\n",
       "      <td>0</td>\n",
       "      <td>0</td>\n",
       "      <td>0</td>\n",
       "      <td>...</td>\n",
       "      <td>20</td>\n",
       "      <td>0</td>\n",
       "      <td>2016</td>\n",
       "      <td>5</td>\n",
       "      <td>18</td>\n",
       "      <td>2</td>\n",
       "      <td>23</td>\n",
       "      <td>59</td>\n",
       "      <td>0</td>\n",
       "      <td>14.569062</td>\n",
       "    </tr>\n",
       "    <tr>\n",
       "      <th>...</th>\n",
       "      <td>...</td>\n",
       "      <td>...</td>\n",
       "      <td>...</td>\n",
       "      <td>...</td>\n",
       "      <td>...</td>\n",
       "      <td>...</td>\n",
       "      <td>...</td>\n",
       "      <td>...</td>\n",
       "      <td>...</td>\n",
       "      <td>...</td>\n",
       "      <td>...</td>\n",
       "      <td>...</td>\n",
       "      <td>...</td>\n",
       "      <td>...</td>\n",
       "      <td>...</td>\n",
       "      <td>...</td>\n",
       "      <td>...</td>\n",
       "      <td>...</td>\n",
       "      <td>...</td>\n",
       "      <td>...</td>\n",
       "      <td>...</td>\n",
       "    </tr>\n",
       "    <tr>\n",
       "      <th>104087</th>\n",
       "      <td>1.438822e+14</td>\n",
       "      <td>5690867</td>\n",
       "      <td>F</td>\n",
       "      <td>2016-05-12 10:49:31</td>\n",
       "      <td>2016-06-01 23:59:59</td>\n",
       "      <td>35</td>\n",
       "      <td>CARATOÍRA</td>\n",
       "      <td>1</td>\n",
       "      <td>0</td>\n",
       "      <td>0</td>\n",
       "      <td>...</td>\n",
       "      <td>49</td>\n",
       "      <td>3</td>\n",
       "      <td>2016</td>\n",
       "      <td>6</td>\n",
       "      <td>22</td>\n",
       "      <td>1</td>\n",
       "      <td>23</td>\n",
       "      <td>59</td>\n",
       "      <td>2</td>\n",
       "      <td>20.548935</td>\n",
       "    </tr>\n",
       "    <tr>\n",
       "      <th>17598</th>\n",
       "      <td>3.841744e+10</td>\n",
       "      <td>5599716</td>\n",
       "      <td>M</td>\n",
       "      <td>2016-04-19 09:21:15</td>\n",
       "      <td>2016-05-18 23:59:59</td>\n",
       "      <td>10</td>\n",
       "      <td>JESUS DE NAZARETH</td>\n",
       "      <td>0</td>\n",
       "      <td>0</td>\n",
       "      <td>0</td>\n",
       "      <td>...</td>\n",
       "      <td>21</td>\n",
       "      <td>1</td>\n",
       "      <td>2016</td>\n",
       "      <td>5</td>\n",
       "      <td>20</td>\n",
       "      <td>18</td>\n",
       "      <td>23</td>\n",
       "      <td>59</td>\n",
       "      <td>2</td>\n",
       "      <td>29.610231</td>\n",
       "    </tr>\n",
       "    <tr>\n",
       "      <th>1050</th>\n",
       "      <td>3.572968e+13</td>\n",
       "      <td>5533149</td>\n",
       "      <td>F</td>\n",
       "      <td>2016-03-31 13:24:56</td>\n",
       "      <td>2016-04-29 23:59:59</td>\n",
       "      <td>38</td>\n",
       "      <td>SANTO ANTÔNIO</td>\n",
       "      <td>0</td>\n",
       "      <td>0</td>\n",
       "      <td>0</td>\n",
       "      <td>...</td>\n",
       "      <td>24</td>\n",
       "      <td>3</td>\n",
       "      <td>2016</td>\n",
       "      <td>4</td>\n",
       "      <td>17</td>\n",
       "      <td>29</td>\n",
       "      <td>23</td>\n",
       "      <td>59</td>\n",
       "      <td>4</td>\n",
       "      <td>29.441007</td>\n",
       "    </tr>\n",
       "    <tr>\n",
       "      <th>73716</th>\n",
       "      <td>8.454496e+13</td>\n",
       "      <td>5708126</td>\n",
       "      <td>F</td>\n",
       "      <td>2016-05-17 10:39:42</td>\n",
       "      <td>2016-05-17 23:59:59</td>\n",
       "      <td>55</td>\n",
       "      <td>ILHA DAS CAIEIRAS</td>\n",
       "      <td>1</td>\n",
       "      <td>0</td>\n",
       "      <td>0</td>\n",
       "      <td>...</td>\n",
       "      <td>39</td>\n",
       "      <td>1</td>\n",
       "      <td>2016</td>\n",
       "      <td>5</td>\n",
       "      <td>20</td>\n",
       "      <td>17</td>\n",
       "      <td>23</td>\n",
       "      <td>59</td>\n",
       "      <td>1</td>\n",
       "      <td>0.555752</td>\n",
       "    </tr>\n",
       "    <tr>\n",
       "      <th>74971</th>\n",
       "      <td>4.665888e+14</td>\n",
       "      <td>5666482</td>\n",
       "      <td>M</td>\n",
       "      <td>2016-05-05 17:12:05</td>\n",
       "      <td>2016-05-09 23:59:59</td>\n",
       "      <td>16</td>\n",
       "      <td>ILHA DAS CAIEIRAS</td>\n",
       "      <td>0</td>\n",
       "      <td>0</td>\n",
       "      <td>0</td>\n",
       "      <td>...</td>\n",
       "      <td>12</td>\n",
       "      <td>3</td>\n",
       "      <td>2016</td>\n",
       "      <td>5</td>\n",
       "      <td>19</td>\n",
       "      <td>9</td>\n",
       "      <td>23</td>\n",
       "      <td>59</td>\n",
       "      <td>0</td>\n",
       "      <td>4.283264</td>\n",
       "    </tr>\n",
       "  </tbody>\n",
       "</table>\n",
       "<p>33157 rows × 30 columns</p>\n",
       "</div>"
      ],
      "text/plain": [
       "           PatientId  AppointmentID Gender        ScheduledDay  \\\n",
       "22726   7.966198e+14        5684809      M 2016-05-11 09:11:58   \n",
       "103094  5.867214e+14        5748536      F 2016-05-31 07:07:59   \n",
       "52044   7.151413e+13        5651341      F 2016-05-03 08:42:09   \n",
       "56258   8.523459e+13        5695263      M 2016-05-13 09:51:06   \n",
       "80842   9.727971e+12        5594173      M 2016-04-18 10:20:32   \n",
       "...              ...            ...    ...                 ...   \n",
       "104087  1.438822e+14        5690867      F 2016-05-12 10:49:31   \n",
       "17598   3.841744e+10        5599716      M 2016-04-19 09:21:15   \n",
       "1050    3.572968e+13        5533149      F 2016-03-31 13:24:56   \n",
       "73716   8.454496e+13        5708126      F 2016-05-17 10:39:42   \n",
       "74971   4.665888e+14        5666482      M 2016-05-05 17:12:05   \n",
       "\n",
       "            AppointmentDay  Age      Neighbourhood  Scholarship  Hipertension  \\\n",
       "22726  2016-05-11 23:59:59    0       SÃO BENEDITO            0             0   \n",
       "103094 2016-06-02 23:59:59   72     PARQUE MOSCOSO            0             0   \n",
       "52044  2016-05-06 23:59:59   40   ILHA DO PRÍNCIPE            0             0   \n",
       "56258  2016-05-16 23:59:59   73            ITARARÉ            0             1   \n",
       "80842  2016-05-02 23:59:59   55     GRANDE VITÓRIA            0             0   \n",
       "...                    ...  ...                ...          ...           ...   \n",
       "104087 2016-06-01 23:59:59   35          CARATOÍRA            1             0   \n",
       "17598  2016-05-18 23:59:59   10  JESUS DE NAZARETH            0             0   \n",
       "1050   2016-04-29 23:59:59   38      SANTO ANTÔNIO            0             0   \n",
       "73716  2016-05-17 23:59:59   55  ILHA DAS CAIEIRAS            1             0   \n",
       "74971  2016-05-09 23:59:59   16  ILHA DAS CAIEIRAS            0             0   \n",
       "\n",
       "        Diabetes  ...  ScheduledDay_minute  ScheduledDay_dayofweek  \\\n",
       "22726          0  ...                   11                       2   \n",
       "103094         0  ...                    7                       1   \n",
       "52044          0  ...                   42                       1   \n",
       "56258          1  ...                   51                       4   \n",
       "80842          0  ...                   20                       0   \n",
       "...          ...  ...                  ...                     ...   \n",
       "104087         0  ...                   49                       3   \n",
       "17598          0  ...                   21                       1   \n",
       "1050           0  ...                   24                       3   \n",
       "73716          0  ...                   39                       1   \n",
       "74971          0  ...                   12                       3   \n",
       "\n",
       "        AppointmentDay_year AppointmentDay_month  AppointmentDay_week  \\\n",
       "22726                  2016                    5                   19   \n",
       "103094                 2016                    6                   22   \n",
       "52044                  2016                    5                   18   \n",
       "56258                  2016                    5                   20   \n",
       "80842                  2016                    5                   18   \n",
       "...                     ...                  ...                  ...   \n",
       "104087                 2016                    6                   22   \n",
       "17598                  2016                    5                   20   \n",
       "1050                   2016                    4                   17   \n",
       "73716                  2016                    5                   20   \n",
       "74971                  2016                    5                   19   \n",
       "\n",
       "        AppointmentDay_day  AppointmentDay_hour  AppointmentDay_minute  \\\n",
       "22726                   11                   23                     59   \n",
       "103094                   2                   23                     59   \n",
       "52044                    6                   23                     59   \n",
       "56258                   16                   23                     59   \n",
       "80842                    2                   23                     59   \n",
       "...                    ...                  ...                    ...   \n",
       "104087                   1                   23                     59   \n",
       "17598                   18                   23                     59   \n",
       "1050                    29                   23                     59   \n",
       "73716                   17                   23                     59   \n",
       "74971                    9                   23                     59   \n",
       "\n",
       "        AppointmentDay_dayofweek  delta_days  \n",
       "22726                          2    0.616678  \n",
       "103094                         3    2.702778  \n",
       "52044                          4    3.637384  \n",
       "56258                          0    3.589502  \n",
       "80842                          0   14.569062  \n",
       "...                          ...         ...  \n",
       "104087                         2   20.548935  \n",
       "17598                          2   29.610231  \n",
       "1050                           4   29.441007  \n",
       "73716                          1    0.555752  \n",
       "74971                          0    4.283264  \n",
       "\n",
       "[33157 rows x 30 columns]"
      ]
     },
     "execution_count": 44,
     "metadata": {},
     "output_type": "execute_result"
    }
   ],
   "source": [
    "df_test"
   ]
  },
  {
   "cell_type": "code",
   "execution_count": 78,
   "id": "fb3624da",
   "metadata": {
    "ExecuteTime": {
     "end_time": "2021-07-03T01:57:05.279397Z",
     "start_time": "2021-07-03T01:57:05.257457Z"
    }
   },
   "outputs": [
    {
     "name": "stdout",
     "output_type": "stream",
     "text": [
      "train prevalences (n = 33157) : 0.201\n",
      "test prevalences (n = 77365) : 0.202\n"
     ]
    }
   ],
   "source": [
    "# we can check the prevalence is about 20% in each\n",
    "\n",
    "print('train prevalences (n = %d) : %.3f' %(len(df_test), calc_prevalence(df_test.OUTPUT_LABEL.values)))\n",
    "print('test prevalences (n = %d) : %.3f' %(len(df_train), calc_prevalence(df_train.OUTPUT_LABEL.values)))"
   ]
  },
  {
   "cell_type": "code",
   "execution_count": 79,
   "id": "75011100",
   "metadata": {
    "ExecuteTime": {
     "end_time": "2021-07-03T01:57:28.590425Z",
     "start_time": "2021-07-03T01:57:28.578457Z"
    }
   },
   "outputs": [],
   "source": [
    "# we will only use selected columns\n",
    "col2use = [\n",
    "    'ScheduledDay_day',\n",
    "    'ScheduledDay_hour',\n",
    "    'ScheduledDay_minute',\n",
    "    'ScheduledDay_dayofweek',\n",
    "    'AppointmentDay_day',\n",
    "    'AppointmentDay_dayofweek',\n",
    "    'delta_days' \n",
    "]"
   ]
  },
  {
   "cell_type": "code",
   "execution_count": 80,
   "id": "1ecef648",
   "metadata": {
    "ExecuteTime": {
     "end_time": "2021-07-03T01:57:29.897239Z",
     "start_time": "2021-07-03T01:57:29.885274Z"
    }
   },
   "outputs": [],
   "source": [
    "# the list could have been expanded if we had\n",
    "# appointments from the entire calendar year\n",
    "# appointment times"
   ]
  },
  {
   "cell_type": "code",
   "execution_count": 81,
   "id": "866f5bb9",
   "metadata": {
    "ExecuteTime": {
     "end_time": "2021-07-03T01:58:01.722172Z",
     "start_time": "2021-07-03T01:58:01.707261Z"
    }
   },
   "outputs": [
    {
     "name": "stdout",
     "output_type": "stream",
     "text": [
      "training shapes: (77365, 7) (77365,)\n",
      "testing shapes: (33157, 7) (33157,)\n"
     ]
    }
   ],
   "source": [
    "# building X (inputs) and Y (output) for training and testing\n",
    "\n",
    "x_train = df_train[col2use].values\n",
    "x_test = df_test[col2use].values\n",
    "\n",
    "y_train = df_train['OUTPUT_LABEL'].values\n",
    "y_test = df_test['OUTPUT_LABEL'].values\n",
    "\n",
    "print('training shapes:', x_train.shape, y_train.shape)\n",
    "print('testing shapes:', x_test.shape, y_test.shape)"
   ]
  },
  {
   "cell_type": "code",
   "execution_count": null,
   "id": "5524b765",
   "metadata": {},
   "outputs": [],
   "source": []
  },
  {
   "cell_type": "code",
   "execution_count": 82,
   "id": "d9111cd5",
   "metadata": {
    "ExecuteTime": {
     "end_time": "2021-07-03T01:58:05.023659Z",
     "start_time": "2021-07-03T01:58:05.015686Z"
    }
   },
   "outputs": [],
   "source": [
    "# training a Machine Learning Model\n",
    "\n",
    "# since the input values are of datetime value\n",
    "# we can train a random forst model\n",
    "\n",
    "# if we want ro use other types of models,\n",
    "# we need to normalize out data\n",
    "# the dayofweek can be converted into a categorical variable using one-hot encoding\n",
    "\n",
    "# this is not needed for a tree based mthod"
   ]
  },
  {
   "cell_type": "code",
   "execution_count": 83,
   "id": "900b2fbc",
   "metadata": {
    "ExecuteTime": {
     "end_time": "2021-07-03T01:58:08.248174Z",
     "start_time": "2021-07-03T01:58:08.242190Z"
    }
   },
   "outputs": [],
   "source": [
    "# importing the training model\n",
    "from sklearn.ensemble import RandomForestClassifier"
   ]
  },
  {
   "cell_type": "code",
   "execution_count": 84,
   "id": "c8e6047b",
   "metadata": {
    "ExecuteTime": {
     "end_time": "2021-07-03T01:58:56.382743Z",
     "start_time": "2021-07-03T01:58:53.656935Z"
    }
   },
   "outputs": [
    {
     "data": {
      "text/plain": [
       "RandomForestClassifier(max_depth=5, random_state=42)"
      ]
     },
     "execution_count": 84,
     "metadata": {},
     "output_type": "execute_result"
    }
   ],
   "source": [
    "# training the model\n",
    "rf= RandomForestClassifier(max_depth= 5, n_estimators= 100, random_state= 42)\n",
    "rf.fit(x_train, y_train)"
   ]
  },
  {
   "cell_type": "code",
   "execution_count": 85,
   "id": "f6190ed7",
   "metadata": {
    "ExecuteTime": {
     "end_time": "2021-07-03T01:59:04.242830Z",
     "start_time": "2021-07-03T01:59:03.561879Z"
    }
   },
   "outputs": [],
   "source": [
    "# testing / predicting the model\n",
    "y_train_preds = rf.predict_proba(x_train)[:,1]\n",
    "y_test_preds = rf.predict_proba(x_test)[:,1]"
   ]
  },
  {
   "cell_type": "code",
   "execution_count": null,
   "id": "7cace432",
   "metadata": {},
   "outputs": [],
   "source": []
  },
  {
   "cell_type": "code",
   "execution_count": 86,
   "id": "a1dfbe8c",
   "metadata": {
    "ExecuteTime": {
     "end_time": "2021-07-03T01:59:10.098891Z",
     "start_time": "2021-07-03T01:59:10.094901Z"
    }
   },
   "outputs": [],
   "source": [
    "# importing performance measurers\n",
    "from sklearn.metrics import roc_auc_score, accuracy_score, precision_score, recall_score"
   ]
  },
  {
   "cell_type": "code",
   "execution_count": 93,
   "id": "853495e1",
   "metadata": {
    "ExecuteTime": {
     "end_time": "2021-07-03T02:06:20.234094Z",
     "start_time": "2021-07-03T02:06:20.221096Z"
    }
   },
   "outputs": [],
   "source": [
    "# evaluating the performance\n",
    "\n",
    "# calculates specificity\n",
    "def calc_specificity(y_actual, y_pred, thresh):\n",
    "    return sum((y_pred < thresh) & (y_actual == 0)) / sum(y_actual == 0)\n",
    "\n",
    "# prints the accuracy scores\n",
    "def print_report(y_actual, y_pred, thresh):\n",
    "    auc = roc_auc_score(y_actual, y_pred)\n",
    "    accuracy = accuracy_score(y_actual, (y_pred>thresh))\n",
    "    recall = recall_score(y_actual, (y_pred>thresh))\n",
    "    precision = precision_score(y_actual, (y_pred>thresh))\n",
    "    specificity = calc_specificity(y_actual, y_pred, thresh)\n",
    "    prevalance= calc_prevalence(y_actual)\n",
    "                     \n",
    "    # printing the results\n",
    "    print('AUC', auc)\n",
    "    print('accuracy', accuracy)\n",
    "    print('recall', recall) \n",
    "    print('precision', precision)\n",
    "    print('specificity', specificity)\n",
    "    print('prevalance', prevalance)\n",
    "    \n",
    "    print('')\n",
    "    \n",
    "    return auc, accuracy, recall, precision, specificity"
   ]
  },
  {
   "cell_type": "code",
   "execution_count": 94,
   "id": "53e21752",
   "metadata": {
    "ExecuteTime": {
     "end_time": "2021-07-03T02:06:22.414304Z",
     "start_time": "2021-07-03T02:06:21.938529Z"
    }
   },
   "outputs": [
    {
     "name": "stdout",
     "output_type": "stream",
     "text": [
      "Random Forest\n",
      "\n",
      "Training\n",
      "AUC 0.7195462731278857\n",
      "accuracy 0.5192916693595295\n",
      "recall 0.9197724221696606\n",
      "precision 0.28591300200703457\n",
      "specificity 0.41779268332199215\n",
      "prevalance 0.20219737607445226\n",
      "\n",
      "\n",
      "Testing\n",
      "AUC 0.7113353628908106\n",
      "accuracy 0.518593358868414\n",
      "recall 0.9178533952930595\n",
      "precision 0.2843014347402145\n",
      "specificity 0.4180321679377785\n",
      "prevalance 0.20119431794191273\n",
      "\n"
     ]
    },
    {
     "data": {
      "text/plain": [
       "(0.7113353628908106,\n",
       " 0.518593358868414,\n",
       " 0.9178533952930595,\n",
       " 0.2843014347402145,\n",
       " 0.4180321679377785)"
      ]
     },
     "execution_count": 94,
     "metadata": {},
     "output_type": "execute_result"
    }
   ],
   "source": [
    "# using the function print_report,\n",
    "# we can evaluae the performance for training and testing\n",
    "\n",
    "# here the thresh is set to 0.201\n",
    "\n",
    "thresh = 0.201\n",
    "\n",
    "print('Random Forest')\n",
    "print('\\nTraining')\n",
    "print_report(y_train, y_train_preds, thresh)\n",
    "\n",
    "print('\\nTesting')\n",
    "print_report(y_test, y_test_preds, thresh)"
   ]
  },
  {
   "cell_type": "code",
   "execution_count": 95,
   "id": "20dd9a89",
   "metadata": {
    "ExecuteTime": {
     "end_time": "2021-07-03T02:07:42.670582Z",
     "start_time": "2021-07-03T02:07:42.666630Z"
    }
   },
   "outputs": [],
   "source": [
    "# now we can plot the ROC with\n",
    "\n",
    "from sklearn.metrics import roc_curve"
   ]
  },
  {
   "cell_type": "code",
   "execution_count": 108,
   "id": "62298a13",
   "metadata": {
    "ExecuteTime": {
     "end_time": "2021-07-03T02:17:47.950095Z",
     "start_time": "2021-07-03T02:17:47.745028Z"
    }
   },
   "outputs": [
    {
     "data": {
      "image/png": "[encoded data removed]",
      "text/plain": [
       "<Figure size 432x288 with 1 Axes>"
      ]
     },
     "metadata": {
      "needs_background": "light"
     },
     "output_type": "display_data"
    }
   ],
   "source": [
    "fpr_train, tpr_train, thresholds_train = roc_curve(y_train, y_train_preds)\n",
    "auc_train = roc_auc_score(y_train, y_train_preds)\n",
    "\n",
    "fpr_test, tpr_test, thresholds_test = roc_curve(y_test, y_test_preds)\n",
    "auc_test = roc_auc_score(y_test, y_test_preds)\n",
    "\n",
    "plt.plot(fpr_train, tpr_train, 'r-', label= 'Train AUC: %.3f' %auc_train)\n",
    "plt.plot(fpr_test, tpr_test, 'b-', label= 'Test AUC: %.3f' %auc_test)\n",
    "\n",
    "plt.xlabel('False Positive Rate')\n",
    "plt.ylabel('True Positive Rate')\n",
    "\n",
    "plt.plot([0,1], [0,1], 'k--')\n",
    "plt.grid()\n",
    "plt.legend(loc= 'best')\n",
    "plt.show()"
   ]
  },
  {
   "cell_type": "code",
   "execution_count": 109,
   "id": "1155dbab",
   "metadata": {
    "ExecuteTime": {
     "end_time": "2021-07-03T02:21:58.952364Z",
     "start_time": "2021-07-03T02:21:58.945383Z"
    }
   },
   "outputs": [],
   "source": [
    "# this indicated that we can get an AUC of ~0.71 with just using datetime features\n",
    "# the ROC curve is kind of odd since it has that elbow at about (0.91, 0.59)"
   ]
  },
  {
   "cell_type": "code",
   "execution_count": 117,
   "id": "3233e401",
   "metadata": {
    "ExecuteTime": {
     "end_time": "2021-07-03T02:32:05.810511Z",
     "start_time": "2021-07-03T02:32:05.653434Z"
    }
   },
   "outputs": [
    {
     "data": {
      "image/png": "[encoded data removed]",
      "text/plain": [
       "<Figure size 480x480 with 1 Axes>"
      ]
     },
     "metadata": {},
     "output_type": "display_data"
    }
   ],
   "source": [
    "# we can also look for the top features\n",
    "\n",
    "feature_importances = pd.DataFrame(rf.feature_importances_, \n",
    "                                  index= col2use,\n",
    "                                  columns=['importance']).sort_values('importance', \n",
    "                                                                     ascending= False)\n",
    "\n",
    "num = min([50, len(col2use)])\n",
    "ylocs = np.arange(num)\n",
    "\n",
    "# get the feature importance for top num and sort in reverse order\n",
    "values_to_plot = feature_importances.iloc[:num].values.ravel()[::-1]\n",
    "feature_labels = list(feature_importances.iloc[:num].index)[::-1]\n",
    "\n",
    "plt.figure(num = None, figsize= (6,6), dpi=80, facecolor= 'w', edgecolor= 'k')\n",
    "plt.barh(ylocs, values_to_plot, align = 'center')\n",
    "\n",
    "plt.ylabel('Features')\n",
    "plt.xlabel('Importance Score')\n",
    "plt.title('Features Importance Score - Random Forest')\n",
    "plt.yticks(ylocs, feature_labels)\n",
    "plt.show()"
   ]
  },
  {
   "cell_type": "code",
   "execution_count": null,
   "id": "575523d8",
   "metadata": {},
   "outputs": [],
   "source": [
    "# this figure shows that the only usable and most used feature is delta_days\n",
    "# the model is likely to struggle with the same day appointments\n",
    "\n",
    "# since the training and testing scores are very similar,\n",
    "# this means we are in the case of high bias\n",
    "# to improve this model, we will require additional valid features\n",
    "\n",
    "# conclusion:\n",
    "    # datetime can have a big impact on machine learning models when used correctly"
   ]
  }
 ],
 "metadata": {
  "kernelspec": {
   "display_name": "Python 3",
   "language": "python",
   "name": "python3"
  },
  "language_info": {
   "codemirror_mode": {
    "name": "ipython",
    "version": 3
   },
   "file_extension": ".py",
   "mimetype": "text/x-python",
   "name": "python",
   "nbconvert_exporter": "python",
   "pygments_lexer": "ipython3",
   "version": "3.8.8"
  },
  "varInspector": {
   "cols": {
    "lenName": 16,
    "lenType": 16,
    "lenVar": 40
   },
   "kernels_config": {
    "python": {
     "delete_cmd_postfix": "",
     "delete_cmd_prefix": "del ",
     "library": "var_list.py",
     "varRefreshCmd": "print(var_dic_list())"
    },
    "r": {
     "delete_cmd_postfix": ") ",
     "delete_cmd_prefix": "rm(",
     "library": "var_list.r",
     "varRefreshCmd": "cat(var_dic_list()) "
    }
   },
   "types_to_exclude": [
    "module",
    "function",
    "builtin_function_or_method",
    "instance",
    "_Feature"
   ],
   "window_display": false
  }
 },
 "nbformat": 4,
 "nbformat_minor": 5
}
